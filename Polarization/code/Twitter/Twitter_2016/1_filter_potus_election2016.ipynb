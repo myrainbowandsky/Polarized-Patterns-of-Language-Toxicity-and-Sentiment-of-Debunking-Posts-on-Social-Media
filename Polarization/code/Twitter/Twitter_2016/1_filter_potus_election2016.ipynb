{
 "cells": [
  {
   "cell_type": "markdown",
   "metadata": {},
   "source": [
    "# Filter posts related to the 2016 U.S. presidential election\n",
    "\n",
    "python=3.11\n",
    "\n",
    "2016 POTUS Election\n"
   ]
  },
  {
   "cell_type": "code",
   "execution_count": null,
   "metadata": {},
   "outputs": [],
   "source": [
    "import pandas as pd\n",
    "from joblib import Parallel, delayed  \n",
    "from joblib import dump, load\n",
    "import warnings\n",
    "warnings.filterwarnings('ignore')"
   ]
  },
  {
   "cell_type": "markdown",
   "metadata": {},
   "source": [
    "## sift"
   ]
  },
  {
   "cell_type": "code",
   "execution_count": null,
   "metadata": {},
   "outputs": [],
   "source": [
    "keywords = [\"MAGA\", \"MakeAmericaGreatAgain\", \"Trump\", \"AmericaFirst\", \"Make America Great Again\", \\\n",
    "             \"Hillary\", \"Clinton\", \"ImWithHer\", \"OHHillYes\", \\\n",
    "             \"election2016\", \"elections2016\", \"debates2016\"]\n",
    "\n",
    "\n",
    "def filter(csv_file_index, keywords, source_path, target_path, result_file_suffix):\n",
    "    df = pd.read_csv(source_path + str(csv_file_index) + \".csv\") \n",
    "    df_f1 = df[df['text'].str.contains('|'.join(keywords), case=False)]  \n",
    "    df_f2 = df[df['entities.hashtags'].astype(str).str.contains('|'.join(keywords), case=False)] \n",
    "    df_cat = pd.concat([df_f1,df_f2], axis=0, join='inner')  \n",
    "    df_cat.sort_index(axis=0, ascending=True, inplace=True)  \n",
    "    df_cat.drop_duplicates(subset='id', keep='first', inplace=True) \n",
    "    df_cat.to_csv(target_path + str(csv_file_index) + result_file_suffix + \".csv\", index=False)  "
   ]
  },
  {
   "cell_type": "code",
   "execution_count": null,
   "metadata": {},
   "outputs": [],
   "source": [
    "\n",
    "begin = 1\n",
    "end = 27\n",
    "source_folder = \"/mnt/data/Project7/fakenews/csv/\"\n",
    "target_folder = \"data/csv_potus_election2016/\"\n",
    "suffix = \"_potus_election2016\"\n",
    "Parallel(n_jobs=5)(delayed(filter)(ind, keywords, source_folder, target_folder, suffix) \\\n",
    "                              for ind in range(begin, end+1))"
   ]
  },
  {
   "cell_type": "code",
   "execution_count": null,
   "metadata": {},
   "outputs": [],
   "source": [
    "\n",
    "results = []\n",
    "for i in range(1, 27+1):\n",
    "    df = pd.read_csv(target_folder + str(i) + suffix + \".csv\")\n",
    "    results.append(df)\n",
    "df_cat = pd.concat(results, axis=0)\n",
    "df_cat.drop_duplicates(subset='id', keep='first', inplace=True)  \n",
    "df_cat.reset_index(drop=True, inplace=True)  \n",
    "df_cat.to_csv(\"data/full_data_potus_election2016.csv\", index=False)  "
   ]
  },
  {
   "cell_type": "markdown",
   "metadata": {},
   "source": [
    "## All posts related to the 2016 U.S. presidential election"
   ]
  },
  {
   "cell_type": "code",
   "execution_count": 5,
   "metadata": {},
   "outputs": [
    {
     "name": "stdout",
     "output_type": "stream",
     "text": [
      "<class 'pandas.core.frame.DataFrame'>\n",
      "RangeIndex: 31784145 entries, 0 to 31784144\n",
      "Data columns (total 83 columns):\n",
      " #   Column                                 Dtype  \n",
      "---  ------                                 -----  \n",
      " 0   id                                     int64  \n",
      " 1   conversation_id                        int64  \n",
      " 2   referenced_tweets.replied_to.id        float64\n",
      " 3   referenced_tweets.retweeted.id         float64\n",
      " 4   referenced_tweets.quoted.id            float64\n",
      " 5   author_id                              int64  \n",
      " 6   in_reply_to_user_id                    float64\n",
      " 7   in_reply_to_username                   object \n",
      " 8   retweeted_user_id                      float64\n",
      " 9   retweeted_username                     object \n",
      " 10  quoted_user_id                         float64\n",
      " 11  quoted_username                        object \n",
      " 12  created_at                             object \n",
      " 13  text                                   object \n",
      " 14  lang                                   object \n",
      " 15  source                                 float64\n",
      " 16  public_metrics.impression_count        int64  \n",
      " 17  public_metrics.reply_count             int64  \n",
      " 18  public_metrics.retweet_count           int64  \n",
      " 19  public_metrics.quote_count             int64  \n",
      " 20  public_metrics.like_count              int64  \n",
      " 21  reply_settings                         object \n",
      " 22  edit_history_tweet_ids                 object \n",
      " 23  edit_controls.edits_remaining          float64\n",
      " 24  edit_controls.editable_until           object \n",
      " 25  edit_controls.is_edit_eligible         object \n",
      " 26  possibly_sensitive                     bool   \n",
      " 27  withheld.scope                         object \n",
      " 28  withheld.copyright                     object \n",
      " 29  withheld.country_codes                 object \n",
      " 30  entities.annotations                   object \n",
      " 31  entities.cashtags                      object \n",
      " 32  entities.hashtags                      object \n",
      " 33  entities.mentions                      object \n",
      " 34  entities.urls                          object \n",
      " 35  context_annotations                    object \n",
      " 36  attachments.media                      object \n",
      " 37  attachments.media_keys                 object \n",
      " 38  attachments.poll.duration_minutes      float64\n",
      " 39  attachments.poll.end_datetime          object \n",
      " 40  attachments.poll.id                    float64\n",
      " 41  attachments.poll.options               object \n",
      " 42  attachments.poll.voting_status         object \n",
      " 43  attachments.poll_ids                   object \n",
      " 44  author.id                              int64  \n",
      " 45  author.created_at                      object \n",
      " 46  author.username                        object \n",
      " 47  author.name                            object \n",
      " 48  author.description                     object \n",
      " 49  author.entities.description.cashtags   object \n",
      " 50  author.entities.description.hashtags   object \n",
      " 51  author.entities.description.mentions   object \n",
      " 52  author.entities.description.urls       object \n",
      " 53  author.entities.url.urls               object \n",
      " 54  author.url                             object \n",
      " 55  author.location                        object \n",
      " 56  author.pinned_tweet_id                 float64\n",
      " 57  author.profile_image_url               object \n",
      " 58  author.protected                       bool   \n",
      " 59  author.public_metrics.followers_count  int64  \n",
      " 60  author.public_metrics.following_count  int64  \n",
      " 61  author.public_metrics.listed_count     float64\n",
      " 62  author.public_metrics.tweet_count      int64  \n",
      " 63  author.verified                        bool   \n",
      " 64  author.verified_type                   float64\n",
      " 65  author.withheld.scope                  object \n",
      " 66  author.withheld.copyright              float64\n",
      " 67  author.withheld.country_codes          object \n",
      " 68  geo.coordinates.coordinates            object \n",
      " 69  geo.coordinates.type                   object \n",
      " 70  geo.country                            object \n",
      " 71  geo.country_code                       object \n",
      " 72  geo.full_name                          object \n",
      " 73  geo.geo.bbox                           object \n",
      " 74  geo.geo.type                           object \n",
      " 75  geo.id                                 object \n",
      " 76  geo.name                               object \n",
      " 77  geo.place_id                           object \n",
      " 78  geo.place_type                         object \n",
      " 79  matching_rules                         float64\n",
      " 80  __twarc.retrieved_at                   object \n",
      " 81  __twarc.url                            object \n",
      " 82  __twarc.version                        object \n",
      "dtypes: bool(3), float64(15), int64(12), object(53)\n",
      "memory usage: 19.0+ GB\n"
     ]
    }
   ],
   "source": [
    "df_cat.info()"
   ]
  },
  {
   "cell_type": "code",
   "execution_count": null,
   "metadata": {},
   "outputs": [
    {
     "name": "stdout",
     "output_type": "stream",
     "text": [
      "authors: 4480831\n",
      "in_reply_to_users: 672440\n",
      "retweeted_users: 323879\n",
      "quoted_users: 90634\n",
      "all_users: 4688742\n"
     ]
    }
   ],
   "source": [
    "\n",
    "authors = set(df_cat[df_cat['author.username'].notna()]['author.username'])\n",
    "in_reply_to_users = set(df_cat[df_cat['in_reply_to_username'].notna()]['in_reply_to_username'])\n",
    "retweeted_users = set(df_cat[df_cat['retweeted_username'].notna()]['retweeted_username'])\n",
    "quoted_users = set(df_cat[df_cat['quoted_username'].notna()]['quoted_username'])\n",
    "all_users = authors | in_reply_to_users | retweeted_users | quoted_users\n",
    "\n",
    "print(\"authors:\", len(authors))\n",
    "print(\"in_reply_to_users:\", len(in_reply_to_users))\n",
    "print(\"retweeted_users:\", len(retweeted_users))\n",
    "print(\"quoted_users:\", len(quoted_users))\n",
    "print(\"all_users:\", len(all_users))"
   ]
  },
  {
   "cell_type": "code",
   "execution_count": null,
   "metadata": {},
   "outputs": [
    {
     "data": {
      "text/plain": [
       "['pkl/all_users[type=set].pkl']"
      ]
     },
     "execution_count": 14,
     "metadata": {},
     "output_type": "execute_result"
    }
   ],
   "source": [
    "# Save the user collection\n",
    "save_path = \"pkl/\"\n",
    "dump(authors, save_path + \"authors[type=set].pkl\")\n",
    "dump(in_reply_to_users, save_path + \"in_reply_to_users[type=set].pkl\")\n",
    "dump(retweeted_users, save_path + \"retweeted_users[type=set].pkl\")\n",
    "dump(quoted_users, save_path + \"quoted_users[type=set].pkl\")\n",
    "dump(all_users, save_path + \"all_users[type=set].pkl\")"
   ]
  },
  {
   "cell_type": "markdown",
   "metadata": {},
   "source": [
    "## English"
   ]
  },
  {
   "cell_type": "code",
   "execution_count": 4,
   "metadata": {},
   "outputs": [
    {
     "data": {
      "text/plain": [
       "(30822858, 83)"
      ]
     },
     "execution_count": 4,
     "metadata": {},
     "output_type": "execute_result"
    }
   ],
   "source": [
    "df_en = df_cat[df_cat['lang'] == 'en']\n",
    "df_en.shape"
   ]
  },
  {
   "cell_type": "code",
   "execution_count": null,
   "metadata": {},
   "outputs": [],
   "source": [
    "\n",
    "#df_en.to_csv(\"data/full_data_potus_election2016[lang=en].csv\", index=False)\n",
    "df_en = pd.read_csv(\"data/full_data_potus_election2016[lang=en].csv\")"
   ]
  },
  {
   "cell_type": "code",
   "execution_count": null,
   "metadata": {},
   "outputs": [
    {
     "data": {
      "text/plain": [
       "['pkl/full_data_potus_election2016[lang=en][type=pd.DataFrame].pkl']"
      ]
     },
     "execution_count": 5,
     "metadata": {},
     "output_type": "execute_result"
    }
   ],
   "source": [
    "\n",
    "#dump(df_en, \"pkl/full_data_potus_election2016[lang=en][type=pd.DataFrame].pkl\")\n",
    "df_en = load(\"pkl/full_data_potus_election2016[lang=en][type=pd.DataFrame].pkl\")"
   ]
  },
  {
   "cell_type": "code",
   "execution_count": null,
   "metadata": {},
   "outputs": [
    {
     "name": "stdout",
     "output_type": "stream",
     "text": [
      "authors: 4079151\n",
      "in_reply_to_users: 614905\n",
      "retweeted_users: 295984\n",
      "quoted_users: 81622\n",
      "all_users: 4257569\n"
     ]
    }
   ],
   "source": [
    "\n",
    "authors = set(df_en[df_en['author.username'].notna()]['author.username'])\n",
    "in_reply_to_users = set(df_en[df_en['in_reply_to_username'].notna()]['in_reply_to_username'])\n",
    "retweeted_users = set(df_en[df_en['retweeted_username'].notna()]['retweeted_username'])\n",
    "quoted_users = set(df_en[df_en['quoted_username'].notna()]['quoted_username'])\n",
    "\n",
    "all_users = authors | in_reply_to_users | retweeted_users | quoted_users\n",
    "\n",
    "\n",
    "print(\"authors:\", len(authors))\n",
    "print(\"in_reply_to_users:\", len(in_reply_to_users))\n",
    "print(\"retweeted_users:\", len(retweeted_users))\n",
    "print(\"quoted_users:\", len(quoted_users))\n",
    "print(\"all_users:\", len(all_users))"
   ]
  },
  {
   "cell_type": "code",
   "execution_count": null,
   "metadata": {},
   "outputs": [
    {
     "data": {
      "text/plain": [
       "['pkl/all_users[lang=en][type=set].pkl']"
      ]
     },
     "execution_count": 7,
     "metadata": {},
     "output_type": "execute_result"
    }
   ],
   "source": [
    "\n",
    "save_path = \"pkl/\"\n",
    "dump(authors, save_path + \"authors[lang=en][type=set].pkl\")\n",
    "dump(in_reply_to_users, save_path + \"in_reply_to_users[lang=en][type=set].pkl\")\n",
    "dump(retweeted_users, save_path + \"retweeted_users[lang=en][type=set].pkl\")\n",
    "dump(quoted_users, save_path + \"quoted_users[lang=en][type=set].pkl\")\n",
    "dump(all_users, save_path + \"all_users[lang=en][type=set].pkl\")"
   ]
  },
  {
   "cell_type": "markdown",
   "metadata": {},
   "source": [
    "## October 10, 2016 to December 19, 2016"
   ]
  },
  {
   "cell_type": "code",
   "execution_count": 2,
   "metadata": {},
   "outputs": [],
   "source": [
    "df_en = load(\"pkl/full_data_potus_election2016[lang=en][type=pd.DataFrame].pkl\")"
   ]
  },
  {
   "cell_type": "code",
   "execution_count": 3,
   "metadata": {},
   "outputs": [],
   "source": [
    "df_t = df_en[df_en['created_at'].str.contains('2016', case=False)]\n",
    "df_t = df_t.sort_values(by='created_at').reset_index(drop=True)"
   ]
  },
  {
   "cell_type": "code",
   "execution_count": 4,
   "metadata": {},
   "outputs": [
    {
     "data": {
      "text/html": [
       "<div>\n",
       "<style scoped>\n",
       "    .dataframe tbody tr th:only-of-type {\n",
       "        vertical-align: middle;\n",
       "    }\n",
       "\n",
       "    .dataframe tbody tr th {\n",
       "        vertical-align: top;\n",
       "    }\n",
       "\n",
       "    .dataframe thead th {\n",
       "        text-align: right;\n",
       "    }\n",
       "</style>\n",
       "<table border=\"1\" class=\"dataframe\">\n",
       "  <thead>\n",
       "    <tr style=\"text-align: right;\">\n",
       "      <th></th>\n",
       "      <th>created_at</th>\n",
       "    </tr>\n",
       "  </thead>\n",
       "  <tbody>\n",
       "    <tr>\n",
       "      <th>0</th>\n",
       "      <td>2016-10-10T13:46:17.000Z</td>\n",
       "    </tr>\n",
       "    <tr>\n",
       "      <th>1</th>\n",
       "      <td>2016-10-10T13:46:17.000Z</td>\n",
       "    </tr>\n",
       "    <tr>\n",
       "      <th>2</th>\n",
       "      <td>2016-10-10T13:46:18.000Z</td>\n",
       "    </tr>\n",
       "    <tr>\n",
       "      <th>3</th>\n",
       "      <td>2016-10-10T13:46:19.000Z</td>\n",
       "    </tr>\n",
       "    <tr>\n",
       "      <th>4</th>\n",
       "      <td>2016-10-10T13:46:20.000Z</td>\n",
       "    </tr>\n",
       "    <tr>\n",
       "      <th>...</th>\n",
       "      <td>...</td>\n",
       "    </tr>\n",
       "    <tr>\n",
       "      <th>667436</th>\n",
       "      <td>2016-12-19T23:59:54.000Z</td>\n",
       "    </tr>\n",
       "    <tr>\n",
       "      <th>667437</th>\n",
       "      <td>2016-12-19T23:59:54.000Z</td>\n",
       "    </tr>\n",
       "    <tr>\n",
       "      <th>667438</th>\n",
       "      <td>2016-12-20T00:00:04.000Z</td>\n",
       "    </tr>\n",
       "    <tr>\n",
       "      <th>667439</th>\n",
       "      <td>2016-12-20T00:00:22.000Z</td>\n",
       "    </tr>\n",
       "    <tr>\n",
       "      <th>667440</th>\n",
       "      <td>2016-12-20T00:00:28.000Z</td>\n",
       "    </tr>\n",
       "  </tbody>\n",
       "</table>\n",
       "<p>667441 rows × 1 columns</p>\n",
       "</div>"
      ],
      "text/plain": [
       "                      created_at\n",
       "0       2016-10-10T13:46:17.000Z\n",
       "1       2016-10-10T13:46:17.000Z\n",
       "2       2016-10-10T13:46:18.000Z\n",
       "3       2016-10-10T13:46:19.000Z\n",
       "4       2016-10-10T13:46:20.000Z\n",
       "...                          ...\n",
       "667436  2016-12-19T23:59:54.000Z\n",
       "667437  2016-12-19T23:59:54.000Z\n",
       "667438  2016-12-20T00:00:04.000Z\n",
       "667439  2016-12-20T00:00:22.000Z\n",
       "667440  2016-12-20T00:00:28.000Z\n",
       "\n",
       "[667441 rows x 1 columns]"
      ]
     },
     "execution_count": 4,
     "metadata": {},
     "output_type": "execute_result"
    }
   ],
   "source": [
    "df_t.loc[:667437, :].to_csv(\"data/2016.10.10_to_12.19_potus_election2016[lang=en].csv\", index=False)\n",
    "df_t.loc[:667440, ['created_at']]"
   ]
  },
  {
   "cell_type": "code",
   "execution_count": 5,
   "metadata": {},
   "outputs": [],
   "source": [
    "df_t = df_t.loc[:667437, :]"
   ]
  },
  {
   "cell_type": "code",
   "execution_count": null,
   "metadata": {},
   "outputs": [
    {
     "name": "stdout",
     "output_type": "stream",
     "text": [
      "authors: 264272\n",
      "in_reply_to_users: 8957\n",
      "retweeted_users: 15892\n",
      "quoted_users: 3431\n",
      "all_users: 268677\n"
     ]
    }
   ],
   "source": [
    "\n",
    "authors = set(df_t[df_t['author.username'].notna()]['author.username'])\n",
    "\n",
    "in_reply_to_users = set(df_t[df_t['in_reply_to_username'].notna()]['in_reply_to_username'])\n",
    "\n",
    "retweeted_users = set(df_t[df_t['retweeted_username'].notna()]['retweeted_username'])\n",
    "\n",
    "quoted_users = set(df_t[df_t['quoted_username'].notna()]['quoted_username'])\n",
    "\n",
    "all_users = authors | in_reply_to_users | retweeted_users | quoted_users\n",
    "\n",
    "\n",
    "print(\"authors:\", len(authors))\n",
    "print(\"in_reply_to_users:\", len(in_reply_to_users))\n",
    "print(\"retweeted_users:\", len(retweeted_users))\n",
    "print(\"quoted_users:\", len(quoted_users))\n",
    "print(\"all_users:\", len(all_users))"
   ]
  },
  {
   "cell_type": "code",
   "execution_count": null,
   "metadata": {},
   "outputs": [
    {
     "data": {
      "text/plain": [
       "['pkl/all_users[time=16.10.10-16.12.19][lang=en][type=set].pkl']"
      ]
     },
     "execution_count": 7,
     "metadata": {},
     "output_type": "execute_result"
    }
   ],
   "source": [
    "\n",
    "save_path = \"pkl/\"\n",
    "suffix = \"[time=16.10.10-16.12.19][lang=en][type=set]\"\n",
    "dump(authors, save_path + \"authors\" + suffix + \".pkl\")\n",
    "dump(in_reply_to_users, save_path + \"in_reply_to_users\" + suffix + \".pkl\")\n",
    "dump(retweeted_users, save_path + \"retweeted_users\" + suffix + \".pkl\")\n",
    "dump(quoted_users, save_path + \"quoted_users\" + suffix + \".pkl\")\n",
    "dump(all_users, save_path + \"all_users\" + suffix + \".pkl\")"
   ]
  }
 ],
 "metadata": {
  "kernelspec": {
   "display_name": "py311",
   "language": "python",
   "name": "python3"
  },
  "language_info": {
   "codemirror_mode": {
    "name": "ipython",
    "version": 3
   },
   "file_extension": ".py",
   "mimetype": "text/x-python",
   "name": "python",
   "nbconvert_exporter": "python",
   "pygments_lexer": "ipython3",
   "version": "3.1.0"
  }
 },
 "nbformat": 4,
 "nbformat_minor": 4
}
