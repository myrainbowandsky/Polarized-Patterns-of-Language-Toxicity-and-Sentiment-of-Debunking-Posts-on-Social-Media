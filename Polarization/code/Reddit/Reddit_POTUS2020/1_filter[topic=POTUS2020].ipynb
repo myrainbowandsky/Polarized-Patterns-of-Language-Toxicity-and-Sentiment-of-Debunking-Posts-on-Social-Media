{
 "cells": [
  {
   "cell_type": "markdown",
   "metadata": {},
   "source": [
    "# Filter posts on the reddit related to the ***POTUS2020***\n",
    "\n",
    "python=3.7\n",
    "\n",
    "(time：September 1, 2020 to January 30 2020)"
   ]
  },
  {
   "cell_type": "code",
   "execution_count": 1,
   "metadata": {},
   "outputs": [],
   "source": [
    "import pandas as pd\n",
    "from joblib import Parallel, delayed  # parallel computing\n",
    "from joblib import dump, load\n",
    "import matplotlib.pyplot as plt\n",
    "import seaborn as sns\n",
    "import warnings\n",
    "warnings.filterwarnings('ignore')\n",
    "\n",
    "# show all columns in the DataFrame\n",
    "pd.set_option('display.max_columns', None)\n",
    "# fully display the content in displayed table cells\n",
    "pd.set_option('display.max_colwidth', None)"
   ]
  },
  {
   "cell_type": "markdown",
   "metadata": {},
   "source": [
    "## Use keywords to select comments related to ***POTUS2020***"
   ]
  },
  {
   "cell_type": "code",
   "execution_count": null,
   "metadata": {},
   "outputs": [],
   "source": [
    "# file path\n",
    "source_path = \"/mnt/data/reddit/reddit/RC/\"\n",
    "\n",
    "start_date = datetime.strptime(\"2020-09\", \"%Y-%m\")\n",
    "end_date = datetime.strptime(\"2020-01\", \"%Y-%m\")\n",
    "\n",
    "date_str_pattern = r'RC_(.*?)\\.zst\\.csv'"
   ]
  },
  {
   "cell_type": "code",
   "execution_count": 5,
   "metadata": {},
   "outputs": [
    {
     "name": "stdout",
     "output_type": "stream",
     "text": [
      "Total comments between 2020-09 and 2021-01: 957030713\n"
     ]
    }
   ],
   "source": [
    "# \n",
    "import re\n",
    "import os\n",
    "import pandas as pd\n",
    "from datetime import datetime\n",
    "import zstandard as zstd\n",
    "\n",
    "# File path\n",
    "source_path = \"/mnt/data/reddit/reddit/RC/\"\n",
    "\n",
    "# Time range\n",
    "start_date = datetime.strptime(\"2020-09\", \"%Y-%m\")\n",
    "end_date = datetime.strptime(\"2021-01\", \"%Y-%m\")\n",
    "\n",
    "# Date pattern in file name\n",
    "date_str_pattern = r'RC_(\\d{4}-\\d{2})\\.zst\\.csv'\n",
    "\n",
    "# Function to check if a file's date is within the desired range\n",
    "def is_within_date_range(file_name, start_date, end_date):\n",
    "    match = re.search(date_str_pattern, file_name)\n",
    "    if match:\n",
    "        file_date_str = match.group(1)  # Extract date part (e.g., \"2020-01\")\n",
    "        file_date = datetime.strptime(file_date_str, \"%Y-%m\")\n",
    "        return start_date <= file_date <= end_date\n",
    "    return False\n",
    "\n",
    "# Function to count comments in a file\n",
    "def count_comments_in_file(file_path):\n",
    "    # Read the CSV content into a DataFrame\n",
    "    df = pd.read_csv(file_path)\n",
    "    return len(df)\n",
    "\n",
    "# Traverse files in the source directory and count comments within the date range\n",
    "total_comments = 0\n",
    "for file_name in os.listdir(source_path):\n",
    "    if is_within_date_range(file_name, start_date, end_date):\n",
    "        file_path = os.path.join(source_path, file_name)\n",
    "        total_comments += count_comments_in_file(file_path)\n",
    "\n",
    "print(f\"Total comments between {start_date.strftime('%Y-%m')} and {end_date.strftime('%Y-%m')}: {total_comments}\")\n"
   ]
  },
  {
   "cell_type": "code",
   "execution_count": 6,
   "metadata": {},
   "outputs": [
    {
     "name": "stdout",
     "output_type": "stream",
     "text": [
      "Total comments between 2020-04 and 2021-05: 2726987682\n"
     ]
    }
   ],
   "source": [
    "# \n",
    "import re\n",
    "import os\n",
    "import pandas as pd\n",
    "from datetime import datetime\n",
    "import zstandard as zstd\n",
    "\n",
    "# File path\n",
    "source_path = \"/mnt/data/reddit/reddit/RC/\"\n",
    "\n",
    "# Time range\n",
    "start_date = datetime.strptime(\"2020-04\", \"%Y-%m\")\n",
    "end_date = datetime.strptime(\"2021-05\", \"%Y-%m\")\n",
    "\n",
    "# Date pattern in file name\n",
    "date_str_pattern = r'RC_(\\d{4}-\\d{2})\\.zst\\.csv'\n",
    "\n",
    "# Function to check if a file's date is within the desired range\n",
    "def is_within_date_range(file_name, start_date, end_date):\n",
    "    match = re.search(date_str_pattern, file_name)\n",
    "    if match:\n",
    "        file_date_str = match.group(1)  # Extract date part (e.g., \"2020-01\")\n",
    "        file_date = datetime.strptime(file_date_str, \"%Y-%m\")\n",
    "        return start_date <= file_date <= end_date\n",
    "    return False\n",
    "\n",
    "# Function to count comments in a file\n",
    "def count_comments_in_file(file_path):\n",
    "    # Read the CSV content into a DataFrame\n",
    "    df = pd.read_csv(file_path)\n",
    "    return len(df)\n",
    "\n",
    "# Traverse files in the source directory and count comments within the date range\n",
    "total_comments = 0\n",
    "for file_name in os.listdir(source_path):\n",
    "    if is_within_date_range(file_name, start_date, end_date):\n",
    "        file_path = os.path.join(source_path, file_name)\n",
    "        total_comments += count_comments_in_file(file_path)\n",
    "\n",
    "print(f\"Total comments between {start_date.strftime('%Y-%m')} and {end_date.strftime('%Y-%m')}: {total_comments}\")\n"
   ]
  },
  {
   "cell_type": "code",
   "execution_count": 1,
   "metadata": {},
   "outputs": [
    {
     "name": "stdout",
     "output_type": "stream",
     "text": [
      "Processed file: RC_2020-05.zst.csv, Comments found: 167312\n",
      "Processed file: RC_2020-11.zst.csv, Comments found: 186535\n"
     ]
    },
    {
     "name": "stderr",
     "output_type": "stream",
     "text": [
      "/home/wenlu/anaconda3/envs/reddit/lib/python3.7/site-packages/ipykernel_launcher.py:41: DtypeWarning: Columns (0,1,2,3,4,5,6,7) have mixed types.Specify dtype option on import or set low_memory=False.\n",
      "/home/wenlu/anaconda3/envs/reddit/lib/python3.7/site-packages/ipykernel_launcher.py:42: DtypeWarning: Columns (0,1,2,3,4,5,6,7) have mixed types.Specify dtype option on import or set low_memory=False.\n"
     ]
    },
    {
     "name": "stdout",
     "output_type": "stream",
     "text": [
      "Processed file: RC_2020-03.zst.csv, Comments found: 176919\n",
      "Processed file: RC_2020-09.zst.csv, Comments found: 155564\n",
      "Processed file: RC_2020-08.zst.csv, Comments found: 153790\n",
      "Processed file: RC_2020-12.zst.csv, Comments found: 144916\n",
      "Processed file: RC_2020-10.zst.csv, Comments found: 178226\n",
      "Processed file: RC_2021-01.zst.csv, Comments found: 184224\n",
      "Processed file: RC_2020-07.zst.csv, Comments found: 152470\n",
      "Processed file: RC_2020-06.zst.csv, Comments found: 150454\n",
      "Processed file: RC_2020-04.zst.csv, Comments found: 168100\n",
      "Processed file: RC_2020-01.zst.csv, Comments found: 80501\n",
      "Processed file: RC_2020-02.zst.csv, Comments found: 108054\n",
      "Total comments between 2020-01 and 2021-01: 2007065\n"
     ]
    }
   ],
   "source": [
    "import re\n",
    "import os\n",
    "import pandas as pd\n",
    "from datetime import datetime\n",
    "import zstandard as zstd\n",
    "\n",
    "# File path\n",
    "source_path = \"/mnt/data/reddit/reddit/RC/\"\n",
    "keywords = [\n",
    "    'fact check', 'fact-checking', 'fact checkers', 'fake news', 'misinformation', 'disinformation', \n",
    "    'debunkers', 'debunker', 'debunking', 'debunk'\n",
    "]\n",
    "# Time range\n",
    "start_date = datetime.strptime(\"2020-01\", \"%Y-%m\")\n",
    "end_date = datetime.strptime(\"2021-01\", \"%Y-%m\")\n",
    "\n",
    "# Date pattern in file name\n",
    "date_str_pattern = r'RC_(\\d{4}-\\d{2})\\.zst\\.csv'\n",
    "\n",
    "# Function to check if a file's date is within the desired range\n",
    "def is_within_date_range(file_name, start_date, end_date):\n",
    "    match = re.search(date_str_pattern, file_name)\n",
    "    if match:\n",
    "        file_date_str = match.group(1)  # Extract date part (e.g., \"2020-01\")\n",
    "        file_date = datetime.strptime(file_date_str, \"%Y-%m\")\n",
    "        return start_date <= file_date <= end_date\n",
    "    return False\n",
    "\n",
    "# Function to count comments in a file\n",
    "def count_comments_in_file(file_path):\n",
    "    # Read the CSV content into a DataFrame\n",
    "    df = pd.read_csv(file_path)\n",
    "    df = df[df['body'].astype(str).str.contains('|'.join(keywords), case=False, na=False)]\n",
    "    return len(df)\n",
    "\n",
    "# Traverse files in the source directory and count comments within the date range\n",
    "total_comments = 0\n",
    "for file_name in os.listdir(source_path):\n",
    "    if is_within_date_range(file_name, start_date, end_date):\n",
    "        file_path = os.path.join(source_path, file_name)\n",
    "        comments_in_file = count_comments_in_file(file_path)\n",
    "        total_comments += count_comments_in_file(file_path)\n",
    "        print(f\"Processed file: {file_name}, Comments found: {comments_in_file}\")\n",
    "\n",
    "print(f\"Total comments between {start_date.strftime('%Y-%m')} and {end_date.strftime('%Y-%m')}: {total_comments}\")"
   ]
  },
  {
   "cell_type": "code",
   "execution_count": null,
   "metadata": {},
   "outputs": [],
   "source": [
    "# Filtering using topic keywords\n",
    "import os\n",
    "import re\n",
    "from datetime import datetime\n",
    "import pandas as pd\n",
    "from multiprocessing import Pool\n",
    "\n",
    "# keywords\n",
    "keywords = [\"trump\", \"maga\", \"MakeAmericaGreatAgain\", \"Make America Great Again\", \"sleepy joe\", \n",
    "            \"sleepyjoe\", \"AmericaFirst\", \"kag\", \"pence\", \"VoteRed2020\", \n",
    "            \"biden\", \"joe2020\", \"teamjoe\", \"kamala\", \"harris\", \"demconvention\", \"demdebate\", \n",
    "            \"BattleForTheSoulOfTheNation\", \"Battle For The Soul Of The Nation\", \"VoteBlue2020\", \n",
    "            \"election2020\", \"elections2020\", \"debates2020\"]\n",
    "\n",
    "# file path\n",
    "source_path = \"/mnt/data/reddit/reddit/RC/\"\n",
    "target_path = \"data/csv_filtered/\"\n",
    "\n",
    "# set time range\n",
    "start_date = datetime.strptime(\"2020-09\", \"%Y-%m\")\n",
    "end_date = datetime.strptime(\"2020-01\", \"%Y-%m\")\n",
    "\n",
    "# settings for result filename\n",
    "label = 'en+POTUS2020'\n",
    "content = 'comment'\n",
    "\n",
    "# format of source filename\n",
    "date_str_pattern = r'RC_(.*?)\\.zst\\.csv'\n",
    "\n",
    "# other settings\n",
    "chunksize = 1e6\n",
    "proc_num = 13\n",
    "\n",
    "def process_file(source_name):\n",
    "    # check file name\n",
    "    mtch = re.search(date_str_pattern, source_name)\n",
    "    if mtch:\n",
    "        # get date from file name\n",
    "        date_str = mtch.group(1)\n",
    "        file_date = datetime.strptime(date_str, '%Y-%m')\n",
    "        \n",
    "        # check if the date in time range. if yes, process the file.\n",
    "        if start_date <= file_date <= end_date:\n",
    "            print(f\"processing {source_name} ... ...\\n\", end='')\n",
    "            target_name = f\"{content}[{label}][{date_str}].csv\"\n",
    "\n",
    "            # check if the target file already exists\n",
    "            if os.path.exists(target_path + target_name):\n",
    "                print(f\"{target_name} already exists.\\n\", end='')\n",
    "                return\n",
    "\n",
    "            try:\n",
    "                for chunk in pd.read_csv(source_path + source_name, chunksize=chunksize, engine='python'):\n",
    "                    df = chunk[chunk['body'].astype(str).str.contains('|'.join(keywords), case=False)]\n",
    "                    df.to_csv(target_path + target_name, mode='a', index=False)\n",
    "                print(f\"{source_name} processed.\\n\", end='')\n",
    "            except Exception as e:\n",
    "                print(f\"failed processing {source_name}.\\n{e}\\n\", end='')\n",
    "\n",
    "# get a list of files\n",
    "files = os.listdir(source_path)\n",
    "\n",
    "# create a pool of workers\n",
    "with Pool(processes=proc_num) as pool:\n",
    "    pool.map(process_file, files)\n",
    "\n",
    "\n",
    "\n",
    "print(\"Done.\")"
   ]
  },
  {
   "cell_type": "code",
   "execution_count": 3,
   "metadata": {},
   "outputs": [
    {
     "name": "stdout",
     "output_type": "stream",
     "text": [
      "data/csv_filtered/comment[en+POTUS2020][2020-06].csv\n",
      "data/csv_filtered/comment[en+POTUS2020][2020-12].csv\n",
      "data/csv_filtered/comment[en+POTUS2020][2020-04].csv\n",
      "data/csv_filtered/comment[en+POTUS2020][2021-01].csv\n",
      "data/csv_filtered/comment[en+POTUS2020][2020-03].csv\n",
      "data/csv_filtered/comment[en+POTUS2020][2020-05].csv\n",
      "data/csv_filtered/comment[en+POTUS2020][2020-07].csv\n",
      "data/csv_filtered/comment[en+POTUS2020][2020-09].csv\n",
      "data/csv_filtered/comment[en+POTUS2020][2020-11].csv\n",
      "data/csv_filtered/comment[en+POTUS2020][2020-08].csv\n",
      "data/csv_filtered/comment[en+POTUS2020][2020-01].csv\n",
      "data/csv_filtered/comment[en+POTUS2020][2020-10].csv\n",
      "data/csv_filtered/comment[en+POTUS2020][2020-02].csv\n",
      "<class 'pandas.core.frame.DataFrame'>\n",
      "RangeIndex: 27686548 entries, 0 to 27686547\n",
      "Data columns (total 8 columns):\n",
      " #   Column        Dtype \n",
      "---  ------        ----- \n",
      " 0   created_utc   object\n",
      " 1   author        object\n",
      " 2   subreddit     object\n",
      " 3   body          object\n",
      " 4   parent_id     object\n",
      " 5   subreddit_id  object\n",
      " 6   id            object\n",
      " 7   lang          object\n",
      "dtypes: object(8)\n",
      "memory usage: 1.7+ GB\n"
     ]
    }
   ],
   "source": [
    "import os\n",
    "\n",
    "folder_path = 'data/csv_filtered'\n",
    "all_data = pd.DataFrame()\n",
    "\n",
    "for filename in os.listdir(folder_path):\n",
    "    file_path = os.path.join(folder_path, filename)\n",
    "    if os.path.isfile(file_path) and filename.endswith('.csv'):\n",
    "        print(file_path)\n",
    "        df = pd.read_csv(file_path, engine='python')\n",
    "        all_data = all_data.append(df, ignore_index=True)\n",
    "\n",
    "all_data.info()"
   ]
  },
  {
   "cell_type": "code",
   "execution_count": 4,
   "metadata": {},
   "outputs": [
    {
     "data": {
      "text/plain": [
       "26753492"
      ]
     },
     "execution_count": 4,
     "metadata": {},
     "output_type": "execute_result"
    }
   ],
   "source": [
    "# considering four possibilities\n",
    "df=all_data.query(\"author !='[deleted]' & body!='[deleted]'\")\n",
    "df=all_data.query(\"author !='[removed]' & body!='[deleted]'\")\n",
    "df=all_data.query(\"author !='[removed]' & body!='[removed]'\")\n",
    "df=all_data.query(\"author !='[deleted]' & body!='[removed]'\")\n",
    "len(df)"
   ]
  },
  {
   "cell_type": "code",
   "execution_count": 5,
   "metadata": {},
   "outputs": [
    {
     "data": {
      "text/plain": [
       "26753492"
      ]
     },
     "execution_count": 5,
     "metadata": {},
     "output_type": "execute_result"
    }
   ],
   "source": [
    "# considering four possibilities\n",
    "df=all_data.query(\"author !='[deleted]' & body!='[deleted]'\")\n",
    "df=df.query(\"author !='[removed]' & body!='[deleted]'\")\n",
    "df=df.query(\"author !='[removed]' & body!='[removed]'\")\n",
    "df=df.query(\"author !='[deleted]' & body!='[removed]'\")\n",
    "len(df)"
   ]
  },
  {
   "cell_type": "code",
   "execution_count": 6,
   "metadata": {},
   "outputs": [
    {
     "data": {
      "text/plain": [
       "26753492"
      ]
     },
     "execution_count": 6,
     "metadata": {},
     "output_type": "execute_result"
    }
   ],
   "source": [
    "df=all_data.query(\"author !='[deleted]' & body!='[removed]'\")\n",
    "len(df)"
   ]
  },
  {
   "cell_type": "code",
   "execution_count": 8,
   "metadata": {},
   "outputs": [
    {
     "name": "stdout",
     "output_type": "stream",
     "text": [
      "INFO: Pandarallel will run on 32 workers.\n",
      "INFO: Pandarallel will use Memory file system to transfer data between the main process and workers.\n"
     ]
    },
    {
     "data": {
      "application/vnd.jupyter.widget-view+json": {
       "model_id": "59ea4fd47e85422aa5aadd17eaccf7c0",
       "version_major": 2,
       "version_minor": 0
      },
      "text/plain": [
       "VBox(children=(HBox(children=(IntProgress(value=0, description='0.00%', max=836047), Label(value='0 / 836047')…"
      ]
     },
     "metadata": {},
     "output_type": "display_data"
    }
   ],
   "source": [
    "# language detection\n",
    "from langdetect import detect\n",
    "def detectlang(x):\n",
    "    try:\n",
    "        return (detect(x))\n",
    "    except:\n",
    "        return ''\n",
    "\n",
    "from pandarallel import pandarallel\n",
    "# Initialization\n",
    "pandarallel.initialize(progress_bar=True, nb_workers=32)\n",
    "# Parallel apply\n",
    "df['lang'] = df['body'].parallel_apply(detectlang).tolist()\n",
    "\n",
    "df.to_csv('data/comments[topic=POTUS2020][lang=en].csv',index=None)"
   ]
  },
  {
   "cell_type": "code",
   "execution_count": 9,
   "metadata": {},
   "outputs": [
    {
     "data": {
      "text/plain": [
       "en    25647696\n",
       "de      110305\n",
       "tl       92275\n",
       "nl       77814\n",
       "it       73835\n",
       "         73688\n",
       "id       61536\n",
       "ro       55537\n",
       "fr       53067\n",
       "da       52364\n",
       "Name: lang, dtype: int64"
      ]
     },
     "execution_count": 9,
     "metadata": {},
     "output_type": "execute_result"
    }
   ],
   "source": [
    "# check the number of language types\n",
    "unique_lang_count = df['lang'].value_counts()\n",
    "unique_lang_count.head(10)"
   ]
  },
  {
   "cell_type": "markdown",
   "metadata": {},
   "source": [
    "## Based on previous selection, use debunking keywords for filtering"
   ]
  },
  {
   "cell_type": "code",
   "execution_count": 10,
   "metadata": {},
   "outputs": [],
   "source": [
    "#df = pd.read_csv(\"data/comments[topic=POTUS2020][lang=en].csv\")\n",
    "\n",
    "# English debunking keywords\n",
    "debunk_keywords_en = [\n",
    "    'fact check', 'fact-checking', 'fact checkers', 'fake news', 'misinformation', 'disinformation', \n",
    "    'debunkers', 'debunker', 'debunking', 'debunk'\n",
    "]\n",
    "\n",
    "# get more debunking key words\n",
    "debunk_site = pd.read_csv(\"/mnt/data/shared/shiqian_reddit/code[reddit][COVID19]/data/(Merge_ver3)debunking_fact-checking_sites.csv\")\n",
    "debunk_site = debunk_site.dropna(subset=['domain'])\n",
    "debunk_site_domain = debunk_site['domain'].to_list()\n",
    "debunk_site_name = debunk_site['name'].to_list()\n",
    "\n",
    "df_debunk_en = df[\n",
    "    (df['lang'] == 'en') &  # '&' has higher priority than '=='\n",
    "    df['body'].astype(str).str.contains('|'.join(debunk_keywords_en + debunk_site_domain + debunk_site_name), case=False)\n",
    "]\n",
    "\n",
    "df_debunk_en.sort_values('created_utc', inplace=True)\n",
    "df_debunk_en.to_csv(\"data/debunking_comments[POTUS2020][lang=en].csv\", index=False)"
   ]
  },
  {
   "cell_type": "code",
   "execution_count": 11,
   "metadata": {},
   "outputs": [
    {
     "name": "stdout",
     "output_type": "stream",
     "text": [
      "<class 'pandas.core.frame.DataFrame'>\n",
      "Int64Index: 407264 entries, 23106849 to 9519687\n",
      "Data columns (total 8 columns):\n",
      " #   Column        Non-Null Count   Dtype \n",
      "---  ------        --------------   ----- \n",
      " 0   created_utc   407264 non-null  object\n",
      " 1   author        407264 non-null  object\n",
      " 2   subreddit     407264 non-null  object\n",
      " 3   body          407264 non-null  object\n",
      " 4   parent_id     407264 non-null  object\n",
      " 5   subreddit_id  407264 non-null  object\n",
      " 6   id            407264 non-null  object\n",
      " 7   lang          407264 non-null  object\n",
      "dtypes: object(8)\n",
      "memory usage: 28.0+ MB\n"
     ]
    }
   ],
   "source": [
    "df_debunk_en.info()"
   ]
  },
  {
   "cell_type": "code",
   "execution_count": null,
   "metadata": {},
   "outputs": [
    {
     "data": {
      "text/plain": [
       "DatetimeIndex(['2020-01-01', '2020-01-02', '2020-01-03', '2020-01-04',\n",
       "               '2020-01-05', '2020-01-06', '2020-01-07', '2020-01-08',\n",
       "               '2020-01-09', '2020-01-10',\n",
       "               ...\n",
       "               '2021-01-23', '2021-01-24', '2021-01-25', '2021-01-26',\n",
       "               '2021-01-27', '2021-01-28', '2021-01-29', '2021-01-30',\n",
       "               '2021-01-31', '2021-02-01'],\n",
       "              dtype='datetime64[ns]', length=398, freq='D')"
      ]
     },
     "execution_count": 4,
     "metadata": {},
     "output_type": "execute_result"
    }
   ],
   "source": [
    "# Make a chart of the number of posts by day\n",
    "df = pd.read_csv(\"data/debunking_comments[POTUS2020][lang=en].csv\")\n",
    "#df = df_debunk_en\n",
    "df['created_utc'] = pd.to_datetime(df['created_utc'])\n",
    "df['date'] = df['created_utc'].dt.date  \n",
    "\n",
    "# data range\n",
    "date_range = pd.date_range(start=df['date'].min(), end=df['date'].max())\n",
    "date_range"
   ]
  },
  {
   "cell_type": "code",
   "execution_count": null,
   "metadata": {},
   "outputs": [
    {
     "data": {
      "image/png": "[encoded data removed]",
      "text/plain": [
       "<Figure size 1000x600 with 1 Axes>"
      ]
     },
     "metadata": {},
     "output_type": "display_data"
    }
   ],
   "source": [
    "# Make a chart of the number of posts by day\n",
    "#df = pd.read_csv(\"data/debunking_comments[topic=POTUS2020][lang=en].csv\")\n",
    "df = df_debunk_en\n",
    "df['created_utc'] = pd.to_datetime(df['created_utc'])\n",
    "df['date'] = df['created_utc'].dt.date  \n",
    "\n",
    "\n",
    "date_range = pd.date_range(start=df['date'].min(), end=df['date'].max())\n",
    "daily_counts = df.groupby('date').size()  \n",
    "daily_counts = daily_counts.reindex(date_range, fill_value=0)\n",
    "\n",
    "plt.figure(figsize=(10, 6))\n",
    "\n",
    "sns.lineplot(data=daily_counts)\n",
    "\n",
    "plt.title('daily number of comments')\n",
    "plt.ylim((0,None))\n",
    "plt.xlabel('date')\n",
    "plt.ylabel('number')\n",
    "plt.show()"
   ]
  }
 ],
 "metadata": {
  "kernelspec": {
   "display_name": "reddit",
   "language": "python",
   "name": "python3"
  },
  "language_info": {
   "codemirror_mode": {
    "name": "ipython",
    "version": 3
   },
   "file_extension": ".py",
   "mimetype": "text/x-python",
   "name": "python",
   "nbconvert_exporter": "python",
   "pygments_lexer": "ipython3",
   "version": "3.7.16"
  }
 },
 "nbformat": 4,
 "nbformat_minor": 2
}
