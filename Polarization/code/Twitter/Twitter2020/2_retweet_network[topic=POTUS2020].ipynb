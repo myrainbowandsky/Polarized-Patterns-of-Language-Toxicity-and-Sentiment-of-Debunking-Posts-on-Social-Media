{
 "cells": [
  {
   "cell_type": "markdown",
   "metadata": {},
   "source": [
    "# Retweet Network Analysis\n",
    "\n",
    "python=3.7\n",
    "\n",
    "|topic      |platform   |language   |\n",
    "|-----------|-----------|-----------|\n",
    "|POTUS2020  |Twitter    |en         |"
   ]
  },
  {
   "cell_type": "code",
   "execution_count": null,
   "metadata": {
    "metadata": {}
   },
   "outputs": [],
   "source": [
    "import pandas as pd\n",
    "import networkx as nx\n",
    "import seaborn as sns\n",
    "import re\n",
    "import matplotlib.pyplot as plt\n",
    "\n",
    "import warnings\n",
    "warnings.filterwarnings('ignore')\n",
    "%matplotlib inline\n",
    "\n",
    "import matplotlib as mpl\n",
    "mpl.rcParams['figure.dpi'] = 300\n",
    "\n",
    "\n",
    "pd.set_option('display.max_columns', None)\n",
    "\n",
    "pd.set_option('display.max_colwidth', None)\n",
    "\n",
    "name_suffix = \"[v3][debunking=keywords][lang=en][topic=POTUS2020][platform=Twitter]\""
   ]
  },
  {
   "cell_type": "markdown",
   "metadata": {},
   "source": [
    "## 1 Build a retweet network (without media filtering)"
   ]
  },
  {
   "cell_type": "code",
   "execution_count": 3,
   "metadata": {
    "metadata": {}
   },
   "outputs": [
    {
     "data": {
      "text/plain": [
       "(6608464, 83)"
      ]
     },
     "execution_count": 3,
     "metadata": {},
     "output_type": "execute_result"
    }
   ],
   "source": [
    "df = pd.read_csv(f\"data/full_data{name_suffix}.csv\")\n",
    "df.shape"
   ]
  },
  {
   "cell_type": "code",
   "execution_count": null,
   "metadata": {
    "metadata": {}
   },
   "outputs": [],
   "source": [
    "\n",
    "df_rt = df[df['referenced_tweets.retweeted.id'].notnull()]\n",
    "df_rt.to_csv(f\"data/retweet{name_suffix}.csv\", index=False)\n",
    "print(f\"number of retweets: {df_rt.shape[0]}\")\n",
    "\n",
    "\n",
    "edge_list = pd.concat(axis=1, objs=[df_rt['author.username'],df_rt['retweeted_username'],df_rt['id']])\n",
    "edge_list.columns = ['source','target','label']\n",
    "\n",
    "D = nx.from_pandas_edgelist(edge_list, create_using=nx.DiGraph, edge_attr='label')  # 利用边的信息来构建有向图\n",
    "#nx.write_gexf(D, f\"data/RTnetworks{name_suffix}.gexf\") "
   ]
  },
  {
   "cell_type": "code",
   "execution_count": 3,
   "metadata": {},
   "outputs": [],
   "source": [
    "D = nx.read_gexf(f\"data/RTnetworks{name_suffix}.gexf\")\n",
    "nx.write_gexf(D, f\"/mnt/data/Sentiment_results/wenlu/2core+not2core_users/POTUS2020/RTnetworks{name_suffix}.gexf\")  # 保存有向图数据"
   ]
  },
  {
   "cell_type": "code",
   "execution_count": null,
   "metadata": {},
   "outputs": [],
   "source": [
    "D = nx.read_gexf(f\"data/RTnetworks{name_suffix}.gexf\")\n",
    "D.remove_edges_from(nx.selfloop_edges(D))\n",
    "\n",
    "k_core_2 = nx.k_core(D, k=2, core_number=None)\n",
    "\n",
    "subgraph = D.copy()\n",
    "subgraph.remove_nodes_from(k_core_2.nodes())\n",
    "nx.write_gexf(subgraph, f\"/mnt/data/Sentiment_results/wenlu/2core+not2core_users/POTUS2020/RTnetworks[none_2core]{name_suffix}.gexf\")  # 保存有向图数据\n",
    "nx.write_gexf(k_core_2, f\"/mnt/data/Sentiment_results/wenlu/2core+not2core_users/POTUS2020/RTnetworks[core=2]{name_suffix}.gexf\")\n"
   ]
  },
  {
   "cell_type": "code",
   "execution_count": 5,
   "metadata": {},
   "outputs": [
    {
     "name": "stdout",
     "output_type": "stream",
     "text": [
      "number of nodes: 450872\n",
      "number of edges: 3300628\n"
     ]
    }
   ],
   "source": [
    "# 2-core subgraph\n",
    "D = nx.read_gexf(f\"data/RTnetworks{name_suffix}.gexf\")\n",
    "D.remove_edges_from(nx.selfloop_edges(D))\n",
    "D2 = nx.k_core(D, k=2, core_number=None)\n",
    "print(f\"number of nodes: {D2.number_of_nodes()}\")\n",
    "print(f\"number of edges: {D2.number_of_edges()}\")\n",
    "nx.write_gexf(D2, f\"data/RTnetworks[core=2]{name_suffix}.gexf\")"
   ]
  },
  {
   "cell_type": "markdown",
   "metadata": {},
   "source": [
    "## 2 Wash the retweet text"
   ]
  },
  {
   "cell_type": "code",
   "execution_count": null,
   "metadata": {
    "metadata": {}
   },
   "outputs": [
    {
     "name": "stdout",
     "output_type": "stream",
     "text": [
      "<class 'pandas.core.frame.DataFrame'>\n",
      "RangeIndex: 1007206 entries, 0 to 1007205\n",
      "Data columns (total 2 columns):\n",
      " #   Column           Non-Null Count    Dtype \n",
      "---  ------           --------------    ----- \n",
      " 0   author.username  1007206 non-null  object\n",
      " 1   text             1007206 non-null  object\n",
      "dtypes: object(2)\n",
      "memory usage: 15.4+ MB\n"
     ]
    }
   ],
   "source": [
    "# # Combine each user's own text\n",
    "df_txt = df_rt\n",
    "df_txt['text'] = df_txt['text'].astype(str)\n",
    "user_texts = df_txt.groupby(by='author.username').agg(text=(\"text\", lambda x: \" \".join(set(x))))\n",
    "user_texts.reset_index(drop=False, inplace=True)\n",
    "user_texts.info()"
   ]
  },
  {
   "cell_type": "markdown",
   "metadata": {},
   "source": [
    "### 2.1 Only the HTML tags and URLs are removed"
   ]
  },
  {
   "cell_type": "code",
   "execution_count": null,
   "metadata": {
    "metadata": {}
   },
   "outputs": [],
   "source": [
    "import html\n",
    "def simple_text_cleaning(text):\n",
    "    text = re.sub(r'https?://\\S+|www\\.\\S+', '', text) \n",
    "    text = html.unescape(text)  \n",
    "    text = re.sub(r'<.*?>+', '', text) \n",
    "    return text"
   ]
  },
  {
   "cell_type": "code",
   "execution_count": 8,
   "metadata": {},
   "outputs": [
    {
     "name": "stdout",
     "output_type": "stream",
     "text": [
      "INFO: Pandarallel will run on 10 workers.\n",
      "INFO: Pandarallel will use Memory file system to transfer data between the main process and workers.\n"
     ]
    },
    {
     "data": {
      "application/vnd.jupyter.widget-view+json": {
       "model_id": "b35f5d503aee479db85cb54783866cf5",
       "version_major": 2,
       "version_minor": 0
      },
      "text/plain": [
       "VBox(children=(HBox(children=(IntProgress(value=0, description='0.00%', max=100721), Label(value='0 / 100721')…"
      ]
     },
     "metadata": {},
     "output_type": "display_data"
    }
   ],
   "source": [
    "df_txt = user_texts\n",
    "\n",
    "from pandarallel import pandarallel\n",
    "pandarallel.initialize(progress_bar=True, nb_workers=10)\n",
    "df_txt['text_simply_cleaned'] = df_txt['text'].parallel_apply(simple_text_cleaning)\n",
    "\n",
    "user_texts = df_txt"
   ]
  },
  {
   "cell_type": "markdown",
   "metadata": {},
   "source": [
    "### 2.2 save"
   ]
  },
  {
   "cell_type": "code",
   "execution_count": 9,
   "metadata": {
    "metadata": {}
   },
   "outputs": [
    {
     "name": "stdout",
     "output_type": "stream",
     "text": [
      "<class 'pandas.core.frame.DataFrame'>\n",
      "RangeIndex: 1007206 entries, 0 to 1007205\n",
      "Data columns (total 3 columns):\n",
      " #   Column               Non-Null Count    Dtype \n",
      "---  ------               --------------    ----- \n",
      " 0   author.username      1007206 non-null  object\n",
      " 1   text                 1007206 non-null  object\n",
      " 2   text_simply_cleaned  1007206 non-null  object\n",
      "dtypes: object(3)\n",
      "memory usage: 23.1+ MB\n"
     ]
    }
   ],
   "source": [
    "user_texts.to_csv(f\"data/user_texts{name_suffix}.csv\", index=False)\n",
    "user_texts.info()"
   ]
  },
  {
   "cell_type": "markdown",
   "metadata": {},
   "source": [
    "## 3 Perspective API"
   ]
  },
  {
   "cell_type": "code",
   "execution_count": null,
   "metadata": {
    "metadata": {}
   },
   "outputs": [
    {
     "name": "stdout",
     "output_type": "stream",
     "text": [
      "number of texts: 460230\n"
     ]
    }
   ],
   "source": [
    "\n",
    "# user_texts = pd.read_csv(f\"data/user_texts{name_suffix}.csv\")\n",
    "texts = pd.DataFrame(user_texts['text_simply_cleaned'].drop_duplicates())\n",
    "texts = texts.rename(columns={'text_simply_cleaned': 'text'})\n",
    "texts.to_csv(f\"data/user_texts_no_duplicates{name_suffix}.csv\", index=False)\n",
    "print(f\"number of texts: {len(texts)}\")"
   ]
  },
  {
   "cell_type": "code",
   "execution_count": null,
   "metadata": {
    "metadata": {}
   },
   "outputs": [
    {
     "name": "stdout",
     "output_type": "stream",
     "text": [
      "<class 'pandas.core.frame.DataFrame'>\n",
      "RangeIndex: 1007206 entries, 0 to 1007205\n",
      "Data columns (total 4 columns):\n",
      " #   Column               Non-Null Count    Dtype  \n",
      "---  ------               --------------    -----  \n",
      " 0   author.username      1007206 non-null  object \n",
      " 1   text                 1007206 non-null  object \n",
      " 2   text_simply_cleaned  1007206 non-null  object \n",
      " 3   toxicity             1003580 non-null  float64\n",
      "dtypes: float64(1), object(3)\n",
      "memory usage: 30.7+ MB\n"
     ]
    }
   ],
   "source": [
    "texts = pd.read_csv(f\"data/toxicity_of_user_texts_no_duplicates{name_suffix}.csv\")\n",
    "\n",
    "def get_score_from_json(x):\n",
    "\n",
    "    if pd.isna(x) or not x:\n",
    "        return None\n",
    "    s = re.search(\"'score': {'value': (.+?),\", x)\n",
    "    return float(s.group(1))\n",
    "\n",
    "texts['toxicity'] = texts['perspective_api_results'].apply(get_score_from_json)\n",
    "texts.to_csv(f\"data/toxicity_of_user_texts_no_duplicates{name_suffix}.csv\", index=False)\n",
    "\n",
    "\n",
    "texts.index = texts['text']\n",
    "score_dict = dict(pd.Series(texts['toxicity']))\n",
    "\n",
    "user_texts = pd.read_csv(f\"data/user_texts{name_suffix}.csv\")\n",
    "user_texts['toxicity'] = user_texts['text_simply_cleaned'].map(score_dict)\n",
    "user_texts.info()"
   ]
  },
  {
   "cell_type": "markdown",
   "metadata": {},
   "source": [
    "## 4 NLTK"
   ]
  },
  {
   "cell_type": "code",
   "execution_count": null,
   "metadata": {
    "metadata": {}
   },
   "outputs": [
    {
     "name": "stdout",
     "output_type": "stream",
     "text": [
      "['neg', 'neu', 'pos', 'compound']\n"
     ]
    }
   ],
   "source": [
    "\n",
    "# import nltk\n",
    "# nltk.download('vader_lexicon')\n",
    "\n",
    "from nltk.sentiment import SentimentIntensityAnalyzer\n",
    "nltk_analyzer = SentimentIntensityAnalyzer()\n",
    "\n",
    "example = nltk_analyzer.polarity_scores(\"\")\n",
    "sentiment_names = list(example.keys())\n",
    "print(sentiment_names)"
   ]
  },
  {
   "cell_type": "code",
   "execution_count": null,
   "metadata": {
    "metadata": {}
   },
   "outputs": [
    {
     "name": "stdout",
     "output_type": "stream",
     "text": [
      "INFO: Pandarallel will run on 10 workers.\n",
      "INFO: Pandarallel will use Memory file system to transfer data between the main process and workers.\n"
     ]
    },
    {
     "data": {
      "application/vnd.jupyter.widget-view+json": {
       "model_id": "ea5f4fb7cd2c4969b52710d926131cf5",
       "version_major": 2,
       "version_minor": 0
      },
      "text/plain": [
       "VBox(children=(HBox(children=(IntProgress(value=0, description='0.00%', max=100721), Label(value='0 / 100721')…"
      ]
     },
     "metadata": {},
     "output_type": "display_data"
    },
    {
     "name": "stdout",
     "output_type": "stream",
     "text": [
      "<class 'pandas.core.frame.DataFrame'>\n",
      "RangeIndex: 1007206 entries, 0 to 1007205\n",
      "Data columns (total 8 columns):\n",
      " #   Column               Non-Null Count    Dtype  \n",
      "---  ------               --------------    -----  \n",
      " 0   author.username      1007206 non-null  object \n",
      " 1   text                 1007206 non-null  object \n",
      " 2   text_simply_cleaned  1007206 non-null  object \n",
      " 3   toxicity             1003580 non-null  float64\n",
      " 4   neg                  1007206 non-null  float64\n",
      " 5   neu                  1007206 non-null  float64\n",
      " 6   pos                  1007206 non-null  float64\n",
      " 7   compound             1007206 non-null  float64\n",
      "dtypes: float64(5), object(3)\n",
      "memory usage: 61.5+ MB\n"
     ]
    }
   ],
   "source": [
    "\n",
    "from pandarallel import pandarallel\n",
    "pandarallel.initialize(progress_bar=True, nb_workers=10)\n",
    "\n",
    "# user_texts.drop(columns=sentiment_names, inplace=True)\n",
    "\n",
    "result = user_texts['text_simply_cleaned'].astype(str).parallel_apply(nltk_analyzer.polarity_scores)\n",
    "result = pd.DataFrame(result.tolist())\n",
    "\n",
    "user_texts = pd.concat([user_texts, result], axis=1)\n",
    "user_texts.to_csv(f\"data/user_texts{name_suffix}.csv\", index=False)\n",
    "user_texts.info()"
   ]
  },
  {
   "cell_type": "markdown",
   "metadata": {},
   "source": [
    "## 5 Sentiment and toxicity analysis"
   ]
  },
  {
   "cell_type": "code",
   "execution_count": null,
   "metadata": {},
   "outputs": [],
   "source": [
    "# draw 2D kernel density heatmap\n",
    "import numpy as np\n",
    "import plotly.graph_objects as go\n",
    "from scipy.stats import kde\n",
    "\n",
    "def toxi_senti_heatmap_2d_ver4(\n",
    "        data:pd.DataFrame, \n",
    "        x='toxicity', \n",
    "        y='compound',\n",
    "        xlim=(0, 1), \n",
    "        ylim=(-1, 1),\n",
    "        zlim=(None, None),\n",
    "        z_scaling=False,\n",
    "        density_mul_count=True,\n",
    "        nbins=200\n",
    "    ):\n",
    "    \n",
    "    data = data[data[x].notna() & data[y].notna()]   \n",
    "   \n",
    "    _x = data[x]\n",
    "    _y = data[y]\n",
    "    k = kde.gaussian_kde([_x,_y])\n",
    "    xi, yi = np.mgrid[\n",
    "            xlim[0]:xlim[1]:nbins*1j, \n",
    "            ylim[0]:ylim[1]:nbins*1j\n",
    "        ]\n",
    "    zi = k(np.vstack([xi.flatten(), yi.flatten()]))\n",
    "\n",
    "    if density_mul_count:\n",
    "        zi = zi * len(data)\n",
    "    elif z_scaling:\n",
    "        zi = (zi - zi.min()) * (zlim[1] - zlim[0]) / (zi.max() - zi.min()) + zlim[0]\n",
    "\n",
    "  \n",
    "    fig = go.Figure(data=go.Heatmap(\n",
    "        x=xi.flatten(),\n",
    "        y=yi.flatten(),\n",
    "        z=zi, zmin=zlim[0], zmax=zlim[1],\n",
    "        colorscale='Turbo',\n",
    "        colorbar=dict(thickness=25, len=0.75, tickfont=dict(size=11))\n",
    "    ))\n",
    "\n",
    "  \n",
    "    fig.update_layout(\n",
    "        autosize=False,\n",
    "        width=450,\n",
    "        height=370,\n",
    "        margin=dict(l=0, r=0, b=45, t=0),\n",
    "        plot_bgcolor='white',  \n",
    "        xaxis_showgrid=False,  \n",
    "        yaxis_showgrid=False,  \n",
    "    )\n",
    "    axis_title_size = 16\n",
    "    axis_tick_size = 12\n",
    "    fig.update_xaxes(\n",
    "        title=dict(\n",
    "                text=x.title() + ' score',\n",
    "                font=dict(size=axis_title_size),\n",
    "                standoff=8\n",
    "            ),\n",
    "        range=xlim,\n",
    "        tickfont=dict(size=axis_tick_size), \n",
    "        linecolor='black',\n",
    "        linewidth=0\n",
    "    )\n",
    "    fig.update_yaxes(\n",
    "        title=dict(\n",
    "                text=y.title() + ' score',\n",
    "                font=dict(size=axis_title_size),\n",
    "                standoff=5\n",
    "            ),\n",
    "        range=ylim,\n",
    "        tickfont=dict(size=axis_tick_size), \n",
    "        linecolor='black',\n",
    "        linewidth=0\n",
    "    )\n",
    "    return fig, xi, yi, zi"
   ]
  },
  {
   "cell_type": "code",
   "execution_count": null,
   "metadata": {},
   "outputs": [],
   "source": [
    "# draw 3D kernel density heatmap\n",
    "import numpy as np\n",
    "import plotly.graph_objects as go\n",
    "from scipy.stats import gaussian_kde\n",
    "import plotly.io as pio\n",
    "\n",
    "\n",
    "def toxi_senti_heatmap_3d_ver4(\n",
    "        df:pd.DataFrame, \n",
    "        x='toxicity', \n",
    "        y='compound',\n",
    "        xlim=(0, 1), \n",
    "        ylim=(-1, 1),\n",
    "        zlim=(None, None),\n",
    "        density_mul_count=True,\n",
    "        title=None,\n",
    "        nbins=100\n",
    "    ):\n",
    "    \n",
    "    df = df[df[x].notna() & df[y].notna()]   \n",
    "    data = np.vstack([df[x].values, df[y].values])\n",
    "\n",
    "    \n",
    "    kde = gaussian_kde(data)\n",
    "\n",
    "\n",
    "    xgrid = np.linspace(xlim[0], xlim[1], nbins)\n",
    "    ygrid = np.linspace(ylim[0], ylim[1], nbins)\n",
    "    Xgrid, Ygrid = np.meshgrid(xgrid, ygrid)\n",
    "    Z = kde.evaluate(np.vstack([Xgrid.ravel(), Ygrid.ravel()]))\n",
    "\n",
    "    Z = Z * len(df) if density_mul_count else Z\n",
    "\n",
    "    \n",
    "    fig = go.Figure(data=[go.Surface(\n",
    "                x=Xgrid, \n",
    "                y=Ygrid, \n",
    "                z=Z.reshape(Xgrid.shape), cmin=zlim[0], cmax=zlim[1], \n",
    "                colorscale='Turbo', \n",
    "                colorbar=dict(thickness=25, len=0.618, tickfont=dict(size=11)))\n",
    "            ])\n",
    "\n",
    "   \n",
    "    if title:\n",
    "        fig.update_layout(\n",
    "                title=dict(x=0.5, y=0.97, font=dict(size=22), text=title, ),\n",
    "                autosize=False,\n",
    "                width=450, height=400,\n",
    "                margin=dict(l=0, r=0, b=0, t=30), \n",
    "        )\n",
    "    else: \n",
    "        fig.update_layout(\n",
    "                autosize=False,\n",
    "                width=450, height=370,\n",
    "                margin=dict(l=0, r=0, b=0, t=0), \n",
    "        )\n",
    "    axis_title_size = 14\n",
    "    axis_tick_size = 11\n",
    "    fig.update_scenes(\n",
    "        xaxis=dict(\n",
    "            title=dict(\n",
    "                text=x.title() + ' score',\n",
    "                font=dict(size=axis_title_size),\n",
    "            ), \n",
    "            tickfont=dict(size=axis_tick_size), \n",
    "            nticks=6,\n",
    "        ),\n",
    "        yaxis=dict(\n",
    "            title=dict(\n",
    "                text=y.title() + ' score',\n",
    "                font=dict(size=axis_title_size),\n",
    "            ), \n",
    "            tickfont=dict(size=axis_tick_size), \n",
    "            nticks=6,\n",
    "        ),\n",
    "        zaxis=dict(\n",
    "            title=dict(\n",
    "                text='Kernel density',\n",
    "                font=dict(size=axis_title_size),\n",
    "            ), \n",
    "            tickfont=dict(size=axis_tick_size), \n",
    "            nticks=6,\n",
    "            range=[zlim[0], zlim[1]]\n",
    "        ),\n",
    "        camera=dict(\n",
    "            center=dict(x=0, y=0.20, z=0.02),\n",
    "            eye=dict(x=-12, y=8, z=7),\n",
    "            projection=dict(type=\"orthographic\"),\n",
    "        ),\n",
    "        aspectratio=dict(x=1.28, y=1.28, z=1.28),\n",
    "    )\n",
    "    \n",
    "    return fig, (Z.min(), Z.max())"
   ]
  },
  {
   "cell_type": "markdown",
   "metadata": {},
   "source": [
    "### There are three types of user ranges"
   ]
  },
  {
   "cell_type": "markdown",
   "metadata": {},
   "source": [
    "The number of users of the three types"
   ]
  },
  {
   "cell_type": "code",
   "execution_count": null,
   "metadata": {},
   "outputs": [
    {
     "name": "stdout",
     "output_type": "stream",
     "text": [
      "number of all users: 1007206\n",
      "number of 2-core users: 440393 (43.7242232472801%)\n",
      "number of non-2-core users: 566813 (56.2757767527199%)\n"
     ]
    }
   ],
   "source": [
    "\n",
    "user_texts = pd.read_csv(f\"data/user_texts{name_suffix}.csv\")\n",
    "print(f\"number of all users: {len(user_texts)}\")\n",
    "\n",
    "D2 = nx.read_gexf(f\"data/RTnetworks[core=2]{name_suffix}.gexf\")\n",
    "nodes_2core = nx.get_node_attributes(D2, 'label')\n",
    "\n",
    "\n",
    "user_texts_2core = user_texts[user_texts['author.username'].isin(nodes_2core)]\n",
    "print(f\"number of 2-core users: {len(user_texts_2core)}\", \n",
    "      f\"({100 * len(user_texts_2core) / len(user_texts)}%)\")\n",
    "\n",
    "\n",
    "user_texts_no_2core = user_texts[ ~ user_texts['author.username'].isin(nodes_2core)]\n",
    "print(f\"number of non-2-core users: {len(user_texts_no_2core)}\", \n",
    "      f\"({100 * len(user_texts_no_2core) / len(user_texts)}%)\")"
   ]
  },
  {
   "cell_type": "markdown",
   "metadata": {},
   "source": [
    "***2 core ***"
   ]
  },
  {
   "cell_type": "code",
   "execution_count": null,
   "metadata": {},
   "outputs": [],
   "source": [
    "import numpy as np\n",
    "import pandas as pd\n",
    "import matplotlib.pyplot as plt\n",
    "from scipy.stats import gaussian_kde\n",
    "from scipy.signal import find_peaks\n",
    "\n",
    "\n",
    "data = user_texts_2core\n",
    "\n",
    "\n",
    "toxicity_scores = data['toxicity'].dropna().values\n",
    "compound_scores = data['compound'].dropna().values\n"
   ]
  },
  {
   "cell_type": "code",
   "execution_count": null,
   "metadata": {},
   "outputs": [
    {
     "name": "stdout",
     "output_type": "stream",
     "text": [
      "Hartigan's Dip Test Statistic: 0.053637183364369255\n",
      "P-value: 0.0\n",
      "Reject the null hypothesis: Evidence of multimodality.\n"
     ]
    }
   ],
   "source": [
    "from diptest import diptest\n",
    "# Hartigan's Dip Test\n",
    "dip_statistic, p_value = diptest(compound_scores)\n",
    "\n",
    "\n",
    "print(f'Hartigan\\'s Dip Test Statistic: {dip_statistic}')\n",
    "print(f'P-value: {p_value}')\n",
    "\n",
    "\n",
    "alpha = 0.05\n",
    "if p_value < alpha:\n",
    "    print(\"Reject the null hypothesis: Evidence of multimodality.\")\n",
    "else:\n",
    "    print(\"Fail to reject the null hypothesis: No evidence of multimodality.\")\n"
   ]
  },
  {
   "cell_type": "code",
   "execution_count": null,
   "metadata": {},
   "outputs": [
    {
     "name": "stdout",
     "output_type": "stream",
     "text": [
      "Hartigan's Dip Test Statistic: 0.022642407875407097\n",
      "P-value: 0.0\n",
      "Reject the null hypothesis: Evidence of multimodality.\n"
     ]
    }
   ],
   "source": [
    "\n",
    "# Hartigan's Dip Test\n",
    "dip_statistic, p_value = diptest(toxicity_scores)\n",
    "\n",
    "\n",
    "print(f'Hartigan\\'s Dip Test Statistic: {dip_statistic}')\n",
    "print(f'P-value: {p_value}')\n",
    "\n",
    "\n",
    "alpha = 0.05\n",
    "if p_value < alpha:\n",
    "    print(\"Reject the null hypothesis: Evidence of multimodality.\")\n",
    "else:\n",
    "    print(\"Fail to reject the null hypothesis: No evidence of multimodality.\")"
   ]
  },
  {
   "cell_type": "markdown",
   "metadata": {},
   "source": [
    "***1 degree***"
   ]
  },
  {
   "cell_type": "code",
   "execution_count": null,
   "metadata": {},
   "outputs": [
    {
     "data": {
      "image/png": "[encoded data removed]",
      "text/plain": [
       "<Figure size 3000x1800 with 1 Axes>"
      ]
     },
     "metadata": {},
     "output_type": "display_data"
    },
    {
     "name": "stdout",
     "output_type": "stream",
     "text": [
      "Number of peaks found: 6\n",
      "Peak values: [3.78530166 1.70737696 1.50228364 0.38877269 0.28414304 0.0278611 ]\n",
      "Peak positions: [0.10223243 0.27442082 0.37519016 0.56988045 0.68141156 0.85262161]\n"
     ]
    }
   ],
   "source": [
    "import numpy as np\n",
    "import pandas as pd\n",
    "import matplotlib.pyplot as plt\n",
    "from scipy.stats import gaussian_kde\n",
    "from scipy.signal import find_peaks\n",
    "\n",
    "\n",
    "data = user_texts_no_2core\n",
    "\n",
    "\n",
    "toxicity_scores = data['toxicity'].dropna().values\n",
    "compound_scores = data['compound'].dropna().values\n"
   ]
  },
  {
   "cell_type": "code",
   "execution_count": null,
   "metadata": {},
   "outputs": [
    {
     "name": "stdout",
     "output_type": "stream",
     "text": [
      "Hartigan's Dip Test Statistic: 0.053637183364369255\n",
      "P-value: 0.0\n",
      "Reject the null hypothesis: Evidence of multimodality.\n"
     ]
    }
   ],
   "source": [
    "from diptest import diptest\n",
    "# Hartigan's Dip Test\n",
    "dip_statistic, p_value = diptest(compound_scores)\n",
    "\n",
    "\n",
    "print(f'Hartigan\\'s Dip Test Statistic: {dip_statistic}')\n",
    "print(f'P-value: {p_value}')\n",
    "\n",
    "\n",
    "alpha = 0.05\n",
    "if p_value < alpha:\n",
    "    print(\"Reject the null hypothesis: Evidence of multimodality.\")\n",
    "else:\n",
    "    print(\"Fail to reject the null hypothesis: No evidence of multimodality.\")\n"
   ]
  },
  {
   "cell_type": "code",
   "execution_count": null,
   "metadata": {},
   "outputs": [
    {
     "name": "stdout",
     "output_type": "stream",
     "text": [
      "Hartigan's Dip Test Statistic: 0.022642407875407097\n",
      "P-value: 0.0\n",
      "Reject the null hypothesis: Evidence of multimodality.\n"
     ]
    }
   ],
   "source": [
    "\n",
    "# Hartigan's Dip Test\n",
    "dip_statistic, p_value = diptest(toxicity_scores)\n",
    "\n",
    "\n",
    "print(f'Hartigan\\'s Dip Test Statistic: {dip_statistic}')\n",
    "print(f'P-value: {p_value}')\n",
    "\n",
    "\n",
    "alpha = 0.05\n",
    "if p_value < alpha:\n",
    "    print(\"Reject the null hypothesis: Evidence of multimodality.\")\n",
    "else:\n",
    "    print(\"Fail to reject the null hypothesis: No evidence of multimodality.\")"
   ]
  },
  {
   "cell_type": "code",
   "execution_count": 3,
   "metadata": {},
   "outputs": [
    {
     "name": "stdout",
     "output_type": "stream",
     "text": [
      "<class 'pandas.core.frame.DataFrame'>\n",
      "RangeIndex: 1007206 entries, 0 to 1007205\n",
      "Data columns (total 8 columns):\n",
      " #   Column               Non-Null Count    Dtype  \n",
      "---  ------               --------------    -----  \n",
      " 0   author.username      1007206 non-null  object \n",
      " 1   text                 1007206 non-null  object \n",
      " 2   text_simply_cleaned  1007206 non-null  object \n",
      " 3   toxicity             1003580 non-null  float64\n",
      " 4   neg                  1007206 non-null  float64\n",
      " 5   neu                  1007206 non-null  float64\n",
      " 6   pos                  1007206 non-null  float64\n",
      " 7   compound             1007206 non-null  float64\n",
      "dtypes: float64(5), object(3)\n",
      "memory usage: 61.5+ MB\n"
     ]
    }
   ],
   "source": [
    "user_texts.info()"
   ]
  },
  {
   "cell_type": "code",
   "execution_count": 4,
   "metadata": {},
   "outputs": [],
   "source": [
    "user_texts['core_status'] = user_texts['author.username'].apply(lambda x: '2 core' if x in nodes_2core else '1 degree')"
   ]
  },
  {
   "cell_type": "code",
   "execution_count": 5,
   "metadata": {},
   "outputs": [
    {
     "name": "stdout",
     "output_type": "stream",
     "text": [
      "<class 'pandas.core.frame.DataFrame'>\n",
      "RangeIndex: 1007206 entries, 0 to 1007205\n",
      "Data columns (total 2 columns):\n",
      " #   Column           Non-Null Count    Dtype \n",
      "---  ------           --------------    ----- \n",
      " 0   author.username  1007206 non-null  object\n",
      " 1   core_status      1007206 non-null  object\n",
      "dtypes: object(2)\n",
      "memory usage: 15.4+ MB\n"
     ]
    }
   ],
   "source": [
    "user_texts2 = user_texts[['author.username', 'core_status']]\n",
    "user_texts2.info()"
   ]
  },
  {
   "cell_type": "code",
   "execution_count": null,
   "metadata": {},
   "outputs": [
    {
     "name": "stdout",
     "output_type": "stream",
     "text": [
      "<class 'pandas.core.frame.DataFrame'>\n",
      "RangeIndex: 1007206 entries, 0 to 1007205\n",
      "Data columns (total 3 columns):\n",
      " #   Column           Non-Null Count    Dtype \n",
      "---  ------           --------------    ----- \n",
      " 0   author.username  1007206 non-null  object\n",
      " 1   core_status      1007206 non-null  object\n",
      " 2   party            295351 non-null   object\n",
      "dtypes: object(3)\n",
      "memory usage: 23.1+ MB\n"
     ]
    }
   ],
   "source": [
    "df_right_left = pd.read_csv(\"/mnt/data/wenlu/Classification-of-political-affiliation/core2_right_left_2classes.csv\")\n",
    "mapping_dict = df_right_left.set_index('Id')['modularity_class'].to_dict()\n",
    "\n",
    "\n",
    "user_texts2['party'] = user_texts2['author.username'].map(mapping_dict)\n",
    "\n",
    "user_texts2['party'] = user_texts2['party'].replace({1: 'Democrats', 74: 'Republicans'})\n",
    "user_texts2.info()\n",
    "\n"
   ]
  },
  {
   "cell_type": "code",
   "execution_count": 7,
   "metadata": {},
   "outputs": [],
   "source": [
    "user_texts2.to_csv(f\"/mnt/data/Sentiment_results/wenlu/user_kcore_party_info/Twitter/user[core_info][party_info]{name_suffix}.csv\", index = False)"
   ]
  },
  {
   "cell_type": "code",
   "execution_count": 3,
   "metadata": {},
   "outputs": [
    {
     "name": "stdout",
     "output_type": "stream",
     "text": [
      "<class 'pandas.core.frame.DataFrame'>\n",
      "RangeIndex: 1007206 entries, 0 to 1007205\n",
      "Data columns (total 19 columns):\n",
      " #   Column               Non-Null Count    Dtype  \n",
      "---  ------               --------------    -----  \n",
      " 0   author.username      1007206 non-null  object \n",
      " 1   text                 1007206 non-null  object \n",
      " 2   text_simply_cleaned  1007206 non-null  object \n",
      " 3   toxicity             1003580 non-null  float64\n",
      " 4   neg                  1007206 non-null  float64\n",
      " 5   neu                  1007206 non-null  float64\n",
      " 6   pos                  1007206 non-null  float64\n",
      " 7   compound             1007206 non-null  float64\n",
      " 8   anger                1007206 non-null  float64\n",
      " 9   anticipation         1007206 non-null  float64\n",
      " 10  disgust              1007206 non-null  float64\n",
      " 11  fear                 1007206 non-null  float64\n",
      " 12  joy                  1007206 non-null  float64\n",
      " 13  love                 1007206 non-null  float64\n",
      " 14  optimism             1007206 non-null  float64\n",
      " 15  pessimism            1007206 non-null  float64\n",
      " 16  sadness              1007206 non-null  float64\n",
      " 17  surprise             1007206 non-null  float64\n",
      " 18  trust                1007206 non-null  float64\n",
      "dtypes: float64(16), object(3)\n",
      "memory usage: 146.0+ MB\n"
     ]
    }
   ],
   "source": [
    "df_2020 = pd.read_csv(\"/mnt/data/wenlu/two-party-sanky/POTU2020_Twitter/sentiment_urls/data/user_texts_[LLMsentiment][debunking=keywords][lang=en][topic=POTUS2020][platform=Twitter][9.5].csv\")\n",
    "df_2020.info()"
   ]
  },
  {
   "cell_type": "code",
   "execution_count": 5,
   "metadata": {},
   "outputs": [],
   "source": [
    "pessi_dict = df_2020.set_index('author.username')['pessimism'].to_dict()\n",
    "user_texts['pessimism'] = user_texts['author.username'].map(pessi_dict)\n",
    "user_texts_2core['pessimism'] = user_texts_2core['author.username'].map(pessi_dict)\n",
    "user_texts_no_2core['pessimism'] = user_texts_no_2core['author.username'].map(pessi_dict)"
   ]
  },
  {
   "cell_type": "markdown",
   "metadata": {},
   "source": [
    "### Differential test of the combined distribution of emotion-toxicity in the three types of users"
   ]
  },
  {
   "cell_type": "code",
   "execution_count": 6,
   "metadata": {},
   "outputs": [],
   "source": [
    "from scipy.stats import mannwhitneyu\n",
    "def Mann_Whitney_U_test(srs1:pd.Series, srs2:pd.Series):\n",
    "    '''Perform the Mann-Whitney U test.'''\n",
    "    u_statistic, p_value = mannwhitneyu(srs1, srs2, alternative='less')\n",
    "    if p_value < 0.05:\n",
    "        print(f\"U-statistic: {u_statistic}, P-Value: {p_value}\", end=', ')\n",
    "        print('The former is significantly smaller overall than the latter.')\n",
    "        return\n",
    "    \n",
    "    u_statistic, p_value = mannwhitneyu(srs1, srs2, alternative='greater')\n",
    "    if p_value < 0.05:\n",
    "        print(f\"U-statistic: {u_statistic}, P-Value: {p_value}\", end=', ')\n",
    "        print('The former is significantly larger overall than the latter.')\n",
    "        return\n",
    "    \n",
    "    u_statistic, p_value = mannwhitneyu(srs1, srs2, alternative='two-sided')\n",
    "    print(f\"U-statistic: {u_statistic}, P-Value: {p_value}\", end=', ')\n",
    "    if p_value < 0.05:\n",
    "        print('There is a significant difference between the two sets of data.')\n",
    "    else:\n",
    "        print('There is no significant difference between the two sets of data.')\n",
    "\n",
    "\n",
    "from scipy.stats import ttest_ind\n",
    "def t_test(srs1:pd.Series, srs2:pd.Series):\n",
    "    '''t test'''\n",
    "    t_statistic, p_value = ttest_ind(srs1, srs2)\n",
    "    print(f\"T-statistic: {t_statistic}, P-Value: {p_value}\", end=', ')\n",
    "    if p_value < 0.05:\n",
    "        if t_statistic > 0:\n",
    "            print('The mean of the former is significantly larger than that of the latter.')\n",
    "        else:\n",
    "            print('The mean of the former is significantly smaller than that of the latter.')\n",
    "    else:\n",
    "        print('There is no significant difference between the two sets of data.')"
   ]
  },
  {
   "cell_type": "code",
   "execution_count": null,
   "metadata": {},
   "outputs": [],
   "source": [
    "_all = user_texts[user_texts['toxicity'].notna() & user_texts['compound'].notna()]\n",
    "_2core = user_texts_2core[user_texts_2core['toxicity'].notna() & user_texts_2core['compound'].notna()]\n",
    "_non_2core = user_texts_no_2core[user_texts_no_2core['toxicity'].notna() & user_texts_no_2core['compound'].notna()]\n",
    "\n",
    "\n",
    "data1 = _all.loc[:, ['toxicity','compound','pessimism']]\n",
    "data2 = _2core.loc[:, ['toxicity','compound','pessimism']]\n",
    "data3 = _non_2core.loc[:, ['toxicity','compound','pessimism']]"
   ]
  },
  {
   "cell_type": "markdown",
   "metadata": {},
   "source": [
    "Mann-Whitney U test"
   ]
  },
  {
   "cell_type": "code",
   "execution_count": 9,
   "metadata": {},
   "outputs": [
    {
     "name": "stdout",
     "output_type": "stream",
     "text": [
      "毒性：\n",
      "all vs 2-core: \t\tU统计量: 169635598131.5, P值: 0.0, 前者整体显著比后者小。\n",
      "all vs non-2-core: \tU统计量: 333950810068.5, P值: 0.0, 前者整体显著比后者大。\n",
      "2-core vs non-2-core: \tU统计量: 173555958724.0, P值: 0.0, 前者整体显著比后者大。\n",
      "\n",
      "情感：\n",
      "all vs 2-core: \t\tU统计量: 268800119302.0, P值: 0.0, 前者整体显著比后者大。\n",
      "all vs non-2-core: \tU统计量: 234786288898.0, P值: 0.0, 前者整体显著比后者小。\n",
      "2-core vs non-2-core: \tU统计量: 74391437553.5, P值: 0.0, 前者整体显著比后者小。\n"
     ]
    }
   ],
   "source": [
    "print(\"Toxicity：\")\n",
    "print(\"all vs 2-core: \", end='\\t\\t')\n",
    "Mann_Whitney_U_test(data1['toxicity'], data2['toxicity'])\n",
    "print(\"all vs non-2-core: \", end='\\t')\n",
    "Mann_Whitney_U_test(data1['toxicity'], data3['toxicity'])\n",
    "print(\"2-core vs non-2-core: \", end='\\t')\n",
    "Mann_Whitney_U_test(data2['toxicity'], data3['toxicity'])\n",
    "\n",
    "print()\n",
    "\n",
    "print(\"Sentiment：\")\n",
    "print(\"all vs 2-core: \", end='\\t\\t')\n",
    "Mann_Whitney_U_test(data1['compound'], data2['compound'])\n",
    "print(\"all vs non-2-core: \", end='\\t')\n",
    "Mann_Whitney_U_test(data1['compound'], data3['compound'])\n",
    "print(\"2-core vs non-2-core: \", end='\\t')\n",
    "Mann_Whitney_U_test(data2['compound'], data3['compound'])"
   ]
  },
  {
   "cell_type": "code",
   "execution_count": 8,
   "metadata": {},
   "outputs": [
    {
     "name": "stdout",
     "output_type": "stream",
     "text": [
      "悲观情绪：\n",
      "all vs 2-core: \t\tU统计量: 225741568904.0, P值: 2.5005230892892488e-169, 前者整体显著比后者大。\n",
      "all vs non-2-core: \tU统计量: 277844839296.0, P值: 1.2576532449105387e-120, 前者整体显著比后者小。\n",
      "2-core vs non-2-core: \tU统计量: 117449987951.5, P值: 0.0, 前者整体显著比后者小。\n"
     ]
    }
   ],
   "source": [
    "data1 = data1[data1['pessimism'].notna()]\n",
    "data2 = data2[data2['pessimism'].notna()]\n",
    "data3 = data3[data3['pessimism'].notna()]\n",
    "\n",
    "print(\"Pessimism：\")\n",
    "print(\"all vs 2-core: \", end='\\t\\t')\n",
    "Mann_Whitney_U_test(data1['pessimism'], data2['pessimism'])\n",
    "print(\"all vs non-2-core: \", end='\\t')\n",
    "Mann_Whitney_U_test(data1['pessimism'], data3['pessimism'])\n",
    "print(\"2-core vs non-2-core: \", end='\\t')\n",
    "Mann_Whitney_U_test(data2['pessimism'], data3['pessimism'])"
   ]
  },
  {
   "cell_type": "markdown",
   "metadata": {},
   "source": [
    "t test"
   ]
  },
  {
   "cell_type": "code",
   "execution_count": 10,
   "metadata": {},
   "outputs": [
    {
     "name": "stdout",
     "output_type": "stream",
     "text": [
      "毒性：\n",
      "all vs 2-core: \t\tT统计量: -188.63948036771578, P值: 0.0, 前者平均值显著比后者的小。\n",
      "all vs non-2-core: \tT统计量: 144.01092090038995, P值: 0.0, 前者平均值显著比后者的大。\n",
      "2-core vs non-2-core: \tT统计量: 293.3053860412453, P值: 0.0, 前者平均值显著比后者的大。\n",
      "\n",
      "情感：\n",
      "all vs 2-core: \t\tT统计量: 140.90030505644398, P值: 0.0, 前者平均值显著比后者的大。\n",
      "all vs non-2-core: \tT统计量: -126.10741787424149, P值: 0.0, 前者平均值显著比后者的小。\n",
      "2-core vs non-2-core: \tT统计量: -236.0792908598128, P值: 0.0, 前者平均值显著比后者的小。\n"
     ]
    }
   ],
   "source": [
    "print(\"Toxicity：\")\n",
    "print(\"all vs 2-core: \", end='\\t\\t')\n",
    "t_test(data1['toxicity'], data2['toxicity'])\n",
    "print(\"all vs non-2-core: \", end='\\t')\n",
    "t_test(data1['toxicity'], data3['toxicity'])\n",
    "print(\"2-core vs non-2-core: \", end='\\t')\n",
    "t_test(data2['toxicity'], data3['toxicity'])\n",
    "\n",
    "print()\n",
    "\n",
    "print(\"Sentiment：\")\n",
    "print(\"all vs 2-core: \", end='\\t\\t')\n",
    "t_test(data1['compound'], data2['compound'])\n",
    "print(\"all vs non-2-core: \", end='\\t')\n",
    "t_test(data1['compound'], data3['compound'])\n",
    "print(\"2-core vs non-2-core: \", end='\\t')\n",
    "t_test(data2['compound'], data3['compound'])"
   ]
  },
  {
   "cell_type": "markdown",
   "metadata": {},
   "source": [
    "### High-density point judgment function and screening function"
   ]
  },
  {
   "cell_type": "code",
   "execution_count": null,
   "metadata": {},
   "outputs": [],
   "source": [
    "def isCloseToHighDensity(\n",
    "        row, \n",
    "        high_density_coords, \n",
    "        x='toxicity',\n",
    "        y='compound',\n",
    "        xlim=(0, 1),\n",
    "        ylim=(-1, 1),\n",
    "        nbins=200\n",
    "    ):\n",
    "\n",
    "    threshold = dict(x = (xlim[1]-xlim[0]) / (nbins-1) / 2, y = (ylim[1]-ylim[0]) / (nbins-1) / 2)\n",
    "\n",
    "    close_to_high_density = high_density_coords[\n",
    "        (\n",
    "            (high_density_coords['x'] - threshold['x'] <= row[x]) &\n",
    "            (row[x] <= high_density_coords['x'] + threshold['x'])\n",
    "        ) &\n",
    "        (\n",
    "            (high_density_coords['y'] - threshold['y'] <= row[y]) &\n",
    "            (row[y] <= high_density_coords['y'] + threshold['y'])\n",
    "        )\n",
    "    ]\n",
    "    return not(close_to_high_density.empty)\n",
    "\n",
    "def findHighDensityPoints(\n",
    "        data: pd.DataFrame,\n",
    "        density_dist: dict,\n",
    "        x='toxicity',\n",
    "        y='compound',\n",
    "        xlim=(0, 1),\n",
    "        ylim=(-1, 1),\n",
    "        threshold = 0.8,\n",
    "        nbins=200,\n",
    "        progress_bar=False,\n",
    "        nb_workers=20\n",
    "    ):\n",
    "\n",
    "    indices = np.where(density_dist['z'] > threshold)\n",
    "\n",
    "\n",
    "    high_density_x_coords = density_dist['x'].flatten()[indices]\n",
    "    high_density_y_coords = density_dist['y'].flatten()[indices]\n",
    "\n",
    "\n",
    "    high_density_coords = dict(x=[], y=[])\n",
    "    for _x, _y in zip(high_density_x_coords, high_density_y_coords):\n",
    "        high_density_coords['x'].append(_x)\n",
    "        high_density_coords['y'].append(_y)\n",
    "\n",
    "    high_density_coords = pd.DataFrame(high_density_coords)\n",
    "\n",
    "\n",
    "    from pandarallel import pandarallel\n",
    "    pandarallel.initialize(progress_bar=progress_bar, nb_workers=nb_workers)\n",
    "\n",
    "    high_density_points = data[data.parallel_apply(isCloseToHighDensity, \n",
    "                                                    args=(\n",
    "                                                            high_density_coords, \n",
    "                                                            x, y,\n",
    "                                                            xlim, ylim,\n",
    "                                                            nbins\n",
    "                                                        ), \n",
    "                                                    axis=1)]\n",
    "    print(f\"The number of high-density points: {len(high_density_points)}\", end=', ')\n",
    "    print(f\"Percentage of users in this category:{100 * len(high_density_points) / len(data)}\")\n",
    "\n",
    "    return high_density_points"
   ]
  },
  {
   "cell_type": "markdown",
   "metadata": {},
   "source": [
    "### **5.1 All retweet users**"
   ]
  },
  {
   "cell_type": "markdown",
   "metadata": {},
   "source": [
    "#### 5.1.1 "
   ]
  },
  {
   "cell_type": "code",
   "execution_count": null,
   "metadata": {},
   "outputs": [],
   "source": [
    "sns.displot(user_texts, x='toxicity', height=6, aspect=8/6)\n",
    "plt.xlabel('toxicity'.title() + ' score')\n",
    "plt.savefig(f\"pic/toxicity{name_suffix}.png\")"
   ]
  },
  {
   "cell_type": "code",
   "execution_count": null,
   "metadata": {},
   "outputs": [],
   "source": [
    "sns.displot(user_texts, x='compound', height=6, aspect=8/6)\n",
    "plt.xlabel('compound'.title() + ' score')\n",
    "plt.savefig(f\"pic/compound{name_suffix}.png\")"
   ]
  },
  {
   "cell_type": "markdown",
   "metadata": {},
   "source": [
    "#### 5.1.2 Toxicity-Compound"
   ]
  },
  {
   "cell_type": "code",
   "execution_count": null,
   "metadata": {},
   "outputs": [],
   "source": [
    "fig, zlim_3d = toxi_senti_heatmap_3d_ver4(user_texts)\n",
    "# fig.show()\n",
    "\n",
    "pio.write_image(\n",
    "    fig, \n",
    "    f'pic/heatmap[dim=3][xy=compound&toxicity]{name_suffix}.png', \n",
    "    scale=5\n",
    ")"
   ]
  },
  {
   "cell_type": "code",
   "execution_count": null,
   "metadata": {},
   "outputs": [],
   "source": [
    "fig, _, _, zs_2d = toxi_senti_heatmap_2d_ver4(user_texts)\n",
    "# fig.show()\n",
    "\n",
    "pio.write_image(\n",
    "    fig, \n",
    "    f'pic/heatmap[dim=2][xy=compound&toxicity]{name_suffix}.png', \n",
    "    scale=5\n",
    ")"
   ]
  },
  {
   "cell_type": "markdown",
   "metadata": {},
   "source": [
    "#### 5.1.3  Combined Z-axis normalized probability distributions"
   ]
  },
  {
   "cell_type": "code",
   "execution_count": null,
   "metadata": {},
   "outputs": [
    {
     "name": "stdout",
     "output_type": "stream",
     "text": [
      "INFO: Pandarallel will run on 20 workers.\n",
      "INFO: Pandarallel will use Memory file system to transfer data between the main process and workers.\n",
      "高密度点的数量: 73545, 在此类用户中的占比：7.30188263374126\n"
     ]
    }
   ],
   "source": [
    "fig, xs, ys, zs = toxi_senti_heatmap_2d_ver4(\n",
    "                        user_texts, \n",
    "                        zlim=(0, 1), \n",
    "                        z_scaling=True, \n",
    "                        density_mul_count=False\n",
    "                    )\n",
    "# fig.show()\n",
    "pio.write_image(\n",
    "    fig, \n",
    "    f'pic/z_scaled_heatmap[dim=2][xy=compound&toxicity]{name_suffix}.png', \n",
    "    scale=5\n",
    ")\n",
    "\n",
    "\n",
    "hd_all = findHighDensityPoints(user_texts, dict(x=xs, y=ys, z=zs))\n",
    "hd_all.to_csv(f\"data/high_density_users{name_suffix}.csv\")"
   ]
  },
  {
   "cell_type": "markdown",
   "metadata": {},
   "source": [
    "### **5.2 2-core retweet users**"
   ]
  },
  {
   "cell_type": "markdown",
   "metadata": {},
   "source": [
    "#### 5.2.1 "
   ]
  },
  {
   "cell_type": "code",
   "execution_count": null,
   "metadata": {},
   "outputs": [],
   "source": [
    "sns.displot(user_texts_2core, x='toxicity', height=6, aspect=8/6)\n",
    "plt.xlabel('toxicity'.title() + ' score')\n",
    "plt.savefig(f\"pic/toxicity[core=2]{name_suffix}.png\")"
   ]
  },
  {
   "cell_type": "code",
   "execution_count": null,
   "metadata": {},
   "outputs": [],
   "source": [
    "sns.displot(user_texts_2core, x='compound', height=6, aspect=8/6)\n",
    "plt.xlabel('compound'.title() + ' score')\n",
    "plt.savefig(f\"pic/compound[core=2]{name_suffix}.png\")"
   ]
  },
  {
   "cell_type": "markdown",
   "metadata": {},
   "source": [
    "#### 5.2.2 Toxicity-Compound"
   ]
  },
  {
   "cell_type": "code",
   "execution_count": null,
   "metadata": {},
   "outputs": [],
   "source": [
    "fig, _ = toxi_senti_heatmap_3d_ver4(user_texts_2core, zlim=zlim_3d)\n",
    "# fig.show()\n",
    "pio.write_image(\n",
    "    fig, \n",
    "    f'pic/heatmap[dim=3][core=2][xy=compound&toxicity]{name_suffix}.png', \n",
    "    scale=5\n",
    ")"
   ]
  },
  {
   "cell_type": "code",
   "execution_count": null,
   "metadata": {},
   "outputs": [],
   "source": [
    "fig, _, _, _ = toxi_senti_heatmap_2d_ver4(user_texts_2core, zlim=(zs_2d.min(), zs_2d.max()))\n",
    "# fig.show()\n",
    "\n",
    "pio.write_image(\n",
    "    fig, \n",
    "    f'pic/heatmap[dim=2][core=2][xy=compound&toxicity]{name_suffix}.png', \n",
    "    scale=5\n",
    ")"
   ]
  },
  {
   "cell_type": "markdown",
   "metadata": {},
   "source": [
    "#### 5.2.3  Combined Z-axis normalized probability distributions"
   ]
  },
  {
   "cell_type": "code",
   "execution_count": null,
   "metadata": {},
   "outputs": [
    {
     "name": "stdout",
     "output_type": "stream",
     "text": [
      "INFO: Pandarallel will run on 20 workers.\n",
      "INFO: Pandarallel will use Memory file system to transfer data between the main process and workers.\n",
      "高密度点的数量: 70132, 在此类用户中的占比：15.924867107333677\n"
     ]
    }
   ],
   "source": [
    "fig, xs, ys, zs = toxi_senti_heatmap_2d_ver4(\n",
    "                        user_texts_2core, \n",
    "                        zlim=(0, 1), \n",
    "                        z_scaling=True, \n",
    "                        density_mul_count=False\n",
    "                    )\n",
    "# fig.show()\n",
    "pio.write_image(\n",
    "    fig, \n",
    "    f'pic/z_scaled_heatmap[dim=2][core=2][xy=compound&toxicity]{name_suffix}.png', \n",
    "    scale=5\n",
    ")\n",
    "\n",
    "\n",
    "hd_2core = findHighDensityPoints(user_texts_2core, dict(x=xs, y=ys, z=zs))\n",
    "hd_2core.to_csv(f\"data/high_density_users[core=2]{name_suffix}.csv\")"
   ]
  },
  {
   "cell_type": "markdown",
   "metadata": {},
   "source": [
    "### **5.3 Remove 2-core users**"
   ]
  },
  {
   "cell_type": "markdown",
   "metadata": {},
   "source": [
    "#### 5.3.1 "
   ]
  },
  {
   "cell_type": "code",
   "execution_count": null,
   "metadata": {},
   "outputs": [],
   "source": [
    "sns.displot(user_texts_no_2core, x='toxicity', height=6, aspect=8/6)\n",
    "plt.xlabel('toxicity'.title() + ' score')\n",
    "plt.savefig(f\"pic/toxicity[core=no_2core]{name_suffix}.png\")"
   ]
  },
  {
   "cell_type": "code",
   "execution_count": null,
   "metadata": {},
   "outputs": [],
   "source": [
    "sns.displot(user_texts_no_2core, x='compound', height=6, aspect=8/6)\n",
    "plt.xlabel('compound'.title() + ' score')\n",
    "plt.savefig(f\"pic/compound[core=no_2core]{name_suffix}.png\")"
   ]
  },
  {
   "cell_type": "markdown",
   "metadata": {},
   "source": [
    "#### 5.3.2 Toxicity-Compound"
   ]
  },
  {
   "cell_type": "code",
   "execution_count": null,
   "metadata": {},
   "outputs": [],
   "source": [
    "fig, _ = toxi_senti_heatmap_3d_ver4(user_texts_no_2core, zlim=zlim_3d)\n",
    "# fig.show()\n",
    "pio.write_image(\n",
    "    fig, \n",
    "    f'pic/heatmap[dim=3][core=no_2core][xy=compound&toxicity]{name_suffix}.png', \n",
    "    scale=5\n",
    ")"
   ]
  },
  {
   "cell_type": "code",
   "execution_count": null,
   "metadata": {},
   "outputs": [],
   "source": [
    "fig, _, _, _ = toxi_senti_heatmap_2d_ver4(user_texts_no_2core, zlim=(zs_2d.min(), zs_2d.max()))\n",
    "# fig.show()\n",
    "pio.write_image(\n",
    "    fig, \n",
    "    f'pic/heatmap[dim=2][core=no_2core][xy=compound&toxicity]{name_suffix}.png', \n",
    "    scale=5\n",
    ")"
   ]
  },
  {
   "cell_type": "markdown",
   "metadata": {},
   "source": [
    "#### 5.3.3  Combined Z-axis normalized probability distributions"
   ]
  },
  {
   "cell_type": "code",
   "execution_count": null,
   "metadata": {},
   "outputs": [
    {
     "name": "stdout",
     "output_type": "stream",
     "text": [
      "INFO: Pandarallel will run on 20 workers.\n",
      "INFO: Pandarallel will use Memory file system to transfer data between the main process and workers.\n",
      "高密度点的数量: 36998, 在此类用户中的占比：6.527373225384739\n"
     ]
    }
   ],
   "source": [
    "fig, xs, ys, zs = toxi_senti_heatmap_2d_ver4(\n",
    "                        user_texts_no_2core, \n",
    "                        zlim=(0, 1), \n",
    "                        z_scaling=True, \n",
    "                        density_mul_count=False\n",
    "                    )\n",
    "# fig.show()\n",
    "pio.write_image(\n",
    "    fig, \n",
    "    f'pic/z_scaled_heatmap[dim=2][core=no_2core][xy=compound&toxicity]{name_suffix}.png', \n",
    "    scale=5\n",
    ")\n",
    "\n",
    "\n",
    "hd_non_2core = findHighDensityPoints(user_texts_no_2core, dict(x=xs, y=ys, z=zs))\n",
    "hd_non_2core.to_csv(f\"data/high_density_users[core=non2core]{name_suffix}.csv\")"
   ]
  },
  {
   "cell_type": "markdown",
   "metadata": {},
   "source": [
    "### The test of the difference in the distribution of emotion and toxicity of users at high-density points"
   ]
  },
  {
   "cell_type": "code",
   "execution_count": 11,
   "metadata": {},
   "outputs": [],
   "source": [
    "hd_all = pd.read_csv(f\"data/high_density_users{name_suffix}.csv\")\n",
    "hd_2core = pd.read_csv(f\"data/high_density_users[core=2]{name_suffix}.csv\")\n",
    "hd_non_2core = pd.read_csv(f\"data/high_density_users[core=non2core]{name_suffix}.csv\")\n",
    "\n",
    "data1 = hd_all\n",
    "data2 = hd_2core\n",
    "data3 = hd_non_2core"
   ]
  },
  {
   "cell_type": "markdown",
   "metadata": {},
   "source": [
    "Mann-Whitney U test"
   ]
  },
  {
   "cell_type": "code",
   "execution_count": 12,
   "metadata": {},
   "outputs": [
    {
     "name": "stdout",
     "output_type": "stream",
     "text": [
      "毒性：\n",
      "all vs 2-core: \t\tU统计量: 3324925169.5, P值: 0.0, 前者整体显著比后者大。\n",
      "all vs non-2-core: \tU统计量: 1865813658.0, P值: 0.0, 前者整体显著比后者大。\n",
      "2-core vs non-2-core: \tU统计量: 1725813311.5, P值: 0.0, 前者整体显著比后者大。\n",
      "\n",
      "情感：\n",
      "all vs 2-core: \t\tU统计量: 4109695625.5, P值: 0.0, 前者整体显著比后者大。\n",
      "all vs non-2-core: \tU统计量: 399146231.0, P值: 0.0, 前者整体显著比后者小。\n",
      "2-core vs non-2-core: \tU统计量: 0.0, P值: 0.0, 前者整体显著比后者小。\n"
     ]
    }
   ],
   "source": [
    "print(\"Toxicity：\")\n",
    "print(\"all vs 2-core: \", end='\\t\\t')\n",
    "Mann_Whitney_U_test(data1['toxicity'], data2['toxicity'])\n",
    "print(\"all vs non-2-core: \", end='\\t')\n",
    "Mann_Whitney_U_test(data1['toxicity'], data3['toxicity'])\n",
    "print(\"2-core vs non-2-core: \", end='\\t')\n",
    "Mann_Whitney_U_test(data2['toxicity'], data3['toxicity'])\n",
    "\n",
    "print()\n",
    "\n",
    "print(\"Sentiment：\")\n",
    "print(\"all vs 2-core: \", end='\\t\\t')\n",
    "Mann_Whitney_U_test(data1['compound'], data2['compound'])\n",
    "print(\"all vs non-2-core: \", end='\\t')\n",
    "Mann_Whitney_U_test(data1['compound'], data3['compound'])\n",
    "print(\"2-core vs non-2-core: \", end='\\t')\n",
    "Mann_Whitney_U_test(data2['compound'], data3['compound'])"
   ]
  },
  {
   "cell_type": "markdown",
   "metadata": {},
   "source": [
    "t test"
   ]
  },
  {
   "cell_type": "code",
   "execution_count": 13,
   "metadata": {},
   "outputs": [
    {
     "name": "stdout",
     "output_type": "stream",
     "text": [
      "毒性：\n",
      "all vs 2-core: \t\tT统计量: -19.311585288571973, P值: 5.471890956460127e-83, 前者平均值显著比后者的小。\n",
      "all vs non-2-core: \tT统计量: 187.39428768533097, P值: 0.0, 前者平均值显著比后者的大。\n",
      "2-core vs non-2-core: \tT统计量: 250.39204069545528, P值: 0.0, 前者平均值显著比后者的大。\n",
      "\n",
      "情感：\n",
      "all vs 2-core: \t\tT统计量: 150.77714834767323, P值: 0.0, 前者平均值显著比后者的大。\n",
      "all vs non-2-core: \tT统计量: -227.55730177384856, P值: 0.0, 前者平均值显著比后者的小。\n",
      "2-core vs non-2-core: \tT统计量: -443.0921200948236, P值: 0.0, 前者平均值显著比后者的小。\n"
     ]
    }
   ],
   "source": [
    "print(\"Toxicity：\")\n",
    "print(\"all vs 2-core: \", end='\\t\\t')\n",
    "t_test(data1['toxicity'], data2['toxicity'])\n",
    "print(\"all vs non-2-core: \", end='\\t')\n",
    "t_test(data1['toxicity'], data3['toxicity'])\n",
    "print(\"2-core vs non-2-core: \", end='\\t')\n",
    "t_test(data2['toxicity'], data3['toxicity'])\n",
    "\n",
    "print()\n",
    "\n",
    "print(\"Sentiment：\")\n",
    "print(\"all vs 2-core: \", end='\\t\\t')\n",
    "t_test(data1['compound'], data2['compound'])\n",
    "print(\"all vs non-2-core: \", end='\\t')\n",
    "t_test(data1['compound'], data3['compound'])\n",
    "print(\"2-core vs non-2-core: \", end='\\t')\n",
    "t_test(data2['compound'], data3['compound'])"
   ]
  },
  {
   "cell_type": "markdown",
   "metadata": {},
   "source": [
    "## 6 dpi adjust"
   ]
  },
  {
   "cell_type": "code",
   "execution_count": 14,
   "metadata": {},
   "outputs": [],
   "source": [
    "from PIL import Image\n",
    "import os\n",
    "\n",
    "def set_dpi_for_all_image(directory, dpi):\n",
    "\n",
    "    for root, dirs, files in os.walk(directory):\n",
    "        for file in files:\n",
    "            file_path = os.path.join(root, file)\n",
    "            try:\n",
    "                img = Image.open(file_path)\n",
    "                img.save(file_path, dpi=(dpi, dpi))\n",
    "            except IOError:\n",
    "                print(f\"Unable to open the image file {file_path}, please verify if it is indeed an image file.\")\n",
    "\n",
    "set_dpi_for_all_image('pic', 300)"
   ]
  }
 ],
 "metadata": {
  "kernelspec": {
   "display_name": "HF",
   "language": "python",
   "name": "python3"
  },
  "language_info": {
   "codemirror_mode": {
    "name": "ipython",
    "version": 3
   },
   "file_extension": ".py",
   "mimetype": "text/x-python",
   "name": "python",
   "nbconvert_exporter": "python",
   "pygments_lexer": "ipython3",
   "version": "3.10.14"
  }
 },
 "nbformat": 4,
 "nbformat_minor": 2
}
